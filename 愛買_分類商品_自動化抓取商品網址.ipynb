{
 "cells": [
  {
   "cell_type": "code",
   "execution_count": 15,
   "metadata": {
    "collapsed": false
   },
   "outputs": [
    {
     "name": "stdout",
     "output_type": "stream",
     "text": [
      "1 4\n",
      "295525 17141 御茶園每朝健康綠茶650ml*4入 http://www.gohappy.com.tw/shopping/Browse.do?op=vp&sid=12&cid=295525&pid=17141\n",
      "295525 2586422 御茶園每朝健康回甘烏龍650ml*4入/組 http://www.gohappy.com.tw/shopping/Browse.do?op=vp&sid=12&cid=295525&pid=2586422\n",
      "295525 4721231 每朝健康爽酷PET2000ml http://www.gohappy.com.tw/shopping/Browse.do?op=vp&sid=12&cid=295525&pid=4721231\n",
      "295525 4531253 每朝健康雙纖綠茶PET650ml*4 http://www.gohappy.com.tw/shopping/Browse.do?op=vp&sid=12&cid=295525&pid=4531253\n"
     ]
    }
   ],
   "source": [
    "# find_element_by 參考網站  http://selenium-python.readthedocs.org/en/latest/locating-elements.html\n",
    "#抓取每個大分類當中的所有商品連結網址\n",
    "\n",
    "def findurl(soup):\n",
    "    for ele in soup.select('.product_list h5 a'):\n",
    "        species=ele['href'].split(\"cid=\")[1]\n",
    "        param=species.split(\"&pid=\")\n",
    "        cid=param[0]\n",
    "        pid=param[1]\n",
    "        print cid, pid, ele.text, \"http://www.gohappy.com.tw\" + ele['href']\n",
    "\n",
    "from selenium import webdriver\n",
    "from selenium.webdriver.common.by import By\n",
    "import time\n",
    "import requests\n",
    "from bs4 import BeautifulSoup\n",
    "\n",
    "\n",
    "driver = webdriver.Firefox()\n",
    "driver.get(\"http://www.gohappy.com.tw/shopping/Browse.do?op=vc&cid=168615&sid=12\")\n",
    "\n",
    "\n",
    "\n",
    "driver.find_element_by_partial_link_text(u\"每朝健康\").click() #搜尋並點擊部分文字是\"熱銷茶飲\"的文字連結\n",
    "time.sleep(2)\n",
    "\n",
    "soup_tmp = BeautifulSoup(driver.page_source,\"html.parser\")\n",
    "page_info = soup_tmp.select('.simplenum')[0].text.strip().split(' ')  #找出全部商品數量及單頁商品數量\n",
    "item_num=int(page_info[3])   #單頁面商品數量\n",
    "item_total=int(page_info[5]) #全部商品數量\n",
    "if (item_num == item_total):\n",
    "    page_num= 1\n",
    "else:\n",
    "    page_num=item_total/item_num +1\n",
    "\n",
    "\n",
    "for i in range(0,page_num):\n",
    "    soup = BeautifulSoup(driver.page_source,\"html.parser\")\n",
    "    print i+1,len(soup.select('.product_list h5 a')) #顯示為第 i 頁, 並且顯示檢查 url筆數(即當頁面的商品個數)\n",
    "    findurl(soup) #function findurl\n",
    "    if (i == page_num-1):\n",
    "        break\n",
    "    else:\n",
    "        driver.find_element_by_partial_link_text(u\"下一頁\").click()\n",
    "        time.sleep(2)\n",
    "\n",
    "driver.close()"
   ]
  },
  {
   "cell_type": "code",
   "execution_count": 14,
   "metadata": {
    "collapsed": false
   },
   "outputs": [
    {
     "data": {
      "text/plain": [
       "int"
      ]
     },
     "execution_count": 14,
     "metadata": {},
     "output_type": "execute_result"
    }
   ],
   "source": [
    "type(page_num)"
   ]
  },
  {
   "cell_type": "code",
   "execution_count": 24,
   "metadata": {
    "collapsed": false
   },
   "outputs": [],
   "source": [
    "page=page_num.split(' ')"
   ]
  },
  {
   "cell_type": "code",
   "execution_count": 38,
   "metadata": {
    "collapsed": false
   },
   "outputs": [
    {
     "name": "stdout",
     "output_type": "stream",
     "text": [
      "1\n"
     ]
    }
   ],
   "source": [
    "a=5/3\n",
    "print a"
   ]
  },
  {
   "cell_type": "code",
   "execution_count": 2,
   "metadata": {
    "collapsed": false
   },
   "outputs": [
    {
     "name": "stdout",
     "output_type": "stream",
     "text": [
      "2\n"
     ]
    }
   ],
   "source": [
    "print page_num"
   ]
  },
  {
   "cell_type": "code",
   "execution_count": null,
   "metadata": {
    "collapsed": true
   },
   "outputs": [],
   "source": []
  }
 ],
 "metadata": {
  "kernelspec": {
   "display_name": "Python 2",
   "language": "python",
   "name": "python2"
  },
  "language_info": {
   "codemirror_mode": {
    "name": "ipython",
    "version": 2
   },
   "file_extension": ".py",
   "mimetype": "text/x-python",
   "name": "python",
   "nbconvert_exporter": "python",
   "pygments_lexer": "ipython2",
   "version": "2.7.10"
  }
 },
 "nbformat": 4,
 "nbformat_minor": 0
}
