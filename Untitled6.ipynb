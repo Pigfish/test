{
 "cells": [
  {
   "cell_type": "code",
   "execution_count": 2,
   "metadata": {
    "collapsed": false
   },
   "outputs": [
    {
     "name": "stdout",
     "output_type": "stream",
     "text": [
      "[u' ', <html> <body> <h1 id=\"title\">Hello World</h1> <a class=\"link\" href=\"#\">This is link1</a> <a class=\"link\" href=\"# link2\">This is link2</a> </body> </html>]\n",
      "<html> <body> <h1 id=\"title\">Hello World</h1> <a class=\"link\" href=\"#\">This is link1</a> <a class=\"link\" href=\"# link2\">This is link2</a> </body> </html>\n",
      "   Hello World This is link1 This is link2  \n"
     ]
    },
    {
     "name": "stderr",
     "output_type": "stream",
     "text": [
      "C:\\Python27\\lib\\site-packages\\bs4\\__init__.py:166: UserWarning: No parser was explicitly specified, so I'm using the best available HTML parser for this system (\"html.parser\"). This usually isn't a problem, but if you run this code on another system, or in a different virtual environment, it may use a different parser and behave differently.\n",
      "\n",
      "To get rid of this warning, change this:\n",
      "\n",
      " BeautifulSoup([your markup])\n",
      "\n",
      "to this:\n",
      "\n",
      " BeautifulSoup([your markup], \"html.parser\")\n",
      "\n",
      "  markup_type=markup_type))\n"
     ]
    }
   ],
   "source": [
    "\n",
    "from bs4 import BeautifulSoup\n",
    "html_sample = ' \\\n",
    "<html> \\\n",
    "<body> \\\n",
    "<h1 id=\"title\">Hello World</h1> \\\n",
    "<a href=\"#\" class=\"link\">This is link1</a> \\\n",
    "<a href=\"# link2\" class=\"link\">This is link2</a> \\\n",
    "</body> \\\n",
    "</html>'\n",
    "\n",
    "soup = BeautifulSoup(html_sample)\n",
    "print soup.contents\n",
    "print soup.contents[1]\n",
    "print soup.text"
   ]
  },
  {
   "cell_type": "code",
   "execution_count": 3,
   "metadata": {
    "collapsed": false
   },
   "outputs": [
    {
     "name": "stdout",
     "output_type": "stream",
     "text": [
      "<a class=\"link\" href=\"#\">This is link1</a>\n",
      "<class 'bs4.element.Tag'>\n",
      "This is link1\n",
      "#\n",
      "[u'link']\n"
     ]
    }
   ],
   "source": [
    "alink = soup.find('a')\n",
    "print alink\n",
    "print type(alink)\n",
    "#print dir(alink)\n",
    "print alink.text\n",
    "print alink['href']\n",
    "print alink['class']"
   ]
  },
  {
   "cell_type": "code",
   "execution_count": 4,
   "metadata": {
    "collapsed": false
   },
   "outputs": [
    {
     "name": "stdout",
     "output_type": "stream",
     "text": [
      "[<a class=\"link\" href=\"#\">This is link1</a>, <a class=\"link\" href=\"# link2\">This is link2</a>]\n",
      "<class 'bs4.element.ResultSet'>\n",
      "<a class=\"link\" href=\"#\">This is link1</a>\n",
      "<a class=\"link\" href=\"# link2\">This is link2</a>\n",
      "[u'This is link1']\n",
      "This is link1\n",
      "[u'This is link2']\n",
      "This is link2\n"
     ]
    }
   ],
   "source": [
    "alinks = soup.findAll('a')\n",
    "print alinks\n",
    "print type(alinks)\n",
    "print alinks[0]\n",
    "print alinks[1]\n",
    "for link  in alinks:\n",
    "    print link.contents\n",
    "    print link.text"
   ]
  },
  {
   "cell_type": "code",
   "execution_count": 6,
   "metadata": {
    "collapsed": false
   },
   "outputs": [
    {
     "name": "stdout",
     "output_type": "stream",
     "text": [
      "<h1 id=\"title\">Hello World</h1>\n"
     ]
    }
   ],
   "source": [
    "# <h1 id=\"title\">Hello World</h1> \n",
    "alink = soup.find('h1', {'id':'title'})\n",
    "print alink"
   ]
  },
  {
   "cell_type": "code",
   "execution_count": 7,
   "metadata": {
    "collapsed": false
   },
   "outputs": [
    {
     "name": "stdout",
     "output_type": "stream",
     "text": [
      "[<h1 id=\"title\">Hello World</h1>]\n",
      "<h1 id=\"title\">Hello World</h1>\n"
     ]
    }
   ],
   "source": [
    "\n",
    "alink = soup.select('#title') # id : #\n",
    "print alink\n",
    "print alink[0]"
   ]
  },
  {
   "cell_type": "code",
   "execution_count": 8,
   "metadata": {
    "collapsed": false
   },
   "outputs": [
    {
     "name": "stdout",
     "output_type": "stream",
     "text": [
      "[<a class=\"link\" href=\"#\">This is link1</a>, <a class=\"link\" href=\"# link2\">This is link2</a>]\n"
     ]
    }
   ],
   "source": [
    "\n",
    "#<a href=\"#\" class=\"link\">This is link1</a> \\\n",
    "#<a href=\"# link2\" class=\"link\">This is link2</a> \\\n",
    "\n",
    "classlink = soup.findAll('a', {'class': 'link'})\n",
    "print classlink"
   ]
  },
  {
   "cell_type": "code",
   "execution_count": 9,
   "metadata": {
    "collapsed": false
   },
   "outputs": [
    {
     "name": "stdout",
     "output_type": "stream",
     "text": [
      "[<a class=\"link\" href=\"#\">This is link1</a>, <a class=\"link\" href=\"# link2\">This is link2</a>]\n"
     ]
    }
   ],
   "source": [
    "classlink = soup.select('.link') # class: .\n",
    "print classlink"
   ]
  },
  {
   "cell_type": "code",
   "execution_count": 10,
   "metadata": {
    "collapsed": false
   },
   "outputs": [
    {
     "name": "stdout",
     "output_type": "stream",
     "text": [
      "#\n",
      "[u'link']\n",
      "# link2\n",
      "[u'link']\n"
     ]
    }
   ],
   "source": [
    "#<a href=\"#\" class=\"link\">This is link1</a> \\\n",
    "#<a href=\"# link2\" class=\"link\">This is link2</a> \\\n",
    "alinks = soup.findAll('a', {'href': True})\n",
    "for link in alinks:\n",
    "    print link['href']\n",
    "    print link['class']"
   ]
  },
  {
   "cell_type": "code",
   "execution_count": 11,
   "metadata": {
    "collapsed": false
   },
   "outputs": [
    {
     "name": "stdout",
     "output_type": "stream",
     "text": [
      "#\n",
      "# link2\n"
     ]
    }
   ],
   "source": [
    "alinks = soup.select('a')\n",
    "for link in alinks:\n",
    "    print link['href']"
   ]
  },
  {
   "cell_type": "code",
   "execution_count": 14,
   "metadata": {
    "collapsed": true
   },
   "outputs": [],
   "source": [
    "import requests\n",
    "from bs4 import BeautifulSoup\n",
    "f = open('cramschool.csv', 'w')\n",
    "for pg in range(0,62):\n",
    "    res = requests.get('https://www.iyp.com.tw/showroom.php?cate_name_eng_lv1=education&cate_name_eng_lv3=languages&p={0}'.format(pg))\n",
    "    #print res.encoding\n",
    "    res.encoding = 'utf-8'\n",
    "\n",
    "    soup = BeautifulSoup(res.text)\n",
    "    for ele in soup.select('.general li'):\n",
    "        if len(ele.select('h3')) > 0:\n",
    "            f.write( \"%s,%s,%s\\n\"%(ele.select('h3')[0].text.encode('utf-8'), \\\n",
    "                  ele.select('.view-map')[0]['go-map'].split('&k=')[1].encode('utf-8'), \\\n",
    "                  ele.select('a')[0]['href'].split('www.iyp.com.tw/')[1].split('/')[0].encode('utf-8')))\n",
    "f.close()"
   ]
  },
  {
   "cell_type": "code",
   "execution_count": 15,
   "metadata": {
    "collapsed": true
   },
   "outputs": [],
   "source": [
    "\n",
    "f = open('gov/51603189_1040202.txt', 'r')\n",
    "response_text = f.read()\n",
    "f.close()"
   ]
  },
  {
   "cell_type": "code",
   "execution_count": 16,
   "metadata": {
    "collapsed": false
   },
   "outputs": [
    {
     "name": "stdout",
     "output_type": "stream",
     "text": [
      "3.13.2\n"
     ]
    }
   ],
   "source": [
    "from bs4 import BeautifulSoup as BS\n",
    "soup = BS(response_text)\n",
    "for row in soup.select('tr'):\n",
    "    th = row.select('th')\n",
    "    if len(th) > 0 :\n",
    "        if th[0].text.encode('utf-8').strip() == '機關代碼':\n",
    "            print row.select('td')[0].text.strip()"
   ]
  },
  {
   "cell_type": "code",
   "execution_count": 17,
   "metadata": {
    "collapsed": false
   },
   "outputs": [
    {
     "name": "stdout",
     "output_type": "stream",
     "text": [
      "False\n",
      "機關代碼\n",
      "True\n",
      "機關代碼       \n",
      "     機關代碼\n"
     ]
    }
   ],
   "source": [
    "a = '     機關代碼       '\n",
    "\n",
    "print  a == '機關代碼'\n",
    "print  a.strip()\n",
    "print  a.strip() == '機關代碼'\n",
    "print a.lstrip()\n",
    "print a.rstrip()"
   ]
  },
  {
   "cell_type": "code",
   "execution_count": 18,
   "metadata": {
    "collapsed": false
   },
   "outputs": [
    {
     "name": "stdout",
     "output_type": "stream",
     "text": [
      " \t string test \t \n",
      "\n",
      "\r",
      " \t string test \t \n",
      "\n",
      "\r\n"
     ]
    }
   ],
   "source": [
    "s = \" \\t string test \\t \\n\\n\\r\" ' \\t string test \\t \\n\\n\\r'\n",
    "print s"
   ]
  },
  {
   "cell_type": "code",
   "execution_count": 19,
   "metadata": {
    "collapsed": false
   },
   "outputs": [
    {
     "name": "stdout",
     "output_type": "stream",
     "text": [
      "string test \t \n",
      "\n",
      "\r",
      " \t string test\n"
     ]
    }
   ],
   "source": [
    "print s.strip() "
   ]
  },
  {
   "cell_type": "code",
   "execution_count": 20,
   "metadata": {
    "collapsed": false
   },
   "outputs": [
    {
     "name": "stdout",
     "output_type": "stream",
     "text": [
      "3.13.2\n",
      "經濟部工業局\n"
     ]
    }
   ],
   "source": [
    "\n",
    "from bs4 import BeautifulSoup as BS\n",
    "soup = BS(response_text)\n",
    "for row in soup.select('tr.award_table_tr_1'):\n",
    "    th = row.select('th')\n",
    "    if len(th) > 0 :\n",
    "        if th[0].text.encode('utf-8').strip() == '機關代碼':\n",
    "            print row.select('td')[0].text.strip()\n",
    "        if th[0].text.encode('utf-8').strip() == '機關名稱':\n",
    "            print row.select('td')[0].text.strip()            \n",
    "        "
   ]
  },
  {
   "cell_type": "code",
   "execution_count": 21,
   "metadata": {
    "collapsed": false
   },
   "outputs": [
    {
     "name": "stdout",
     "output_type": "stream",
     "text": [
      "{'a': 100, 'c': 0.98, 'b': 'yes'}\n",
      "['a', 'c', 'b']\n",
      "[100, 0.98, 'yes']\n",
      "100\n",
      "100\n"
     ]
    }
   ],
   "source": [
    "#declare dictionary\n",
    "dic = {'a':100, 'b':\"yes\", 'c':0.98} \n",
    "print dic\n",
    "#get keys in dictionary\n",
    "print dic.keys()\n",
    "#get values in dictionary\n",
    "print dic.values() #get value of given key\n",
    "print dic['a']\n",
    "#get value of given key\n",
    "print dic.get('a')"
   ]
  },
  {
   "cell_type": "code",
   "execution_count": 22,
   "metadata": {
    "collapsed": false
   },
   "outputs": [
    {
     "name": "stdout",
     "output_type": "stream",
     "text": [
      "{'a': 100, 'c': 0.98, 'b': 'yes', 'd': 'new'}\n",
      "{'a': 100, 'c': 0.98, 'b': 'yes', 'e': 123, 'd': 'new', 'f': 999}\n",
      "a 100\n",
      "c 0.98\n",
      "b yes\n",
      "e 123\n",
      "d new\n",
      "f 999\n"
     ]
    }
   ],
   "source": [
    "#add entry into dictionary\n",
    "dic['d'] = 'new'\n",
    "print dic\n",
    "\n",
    "#add entry into dictionary\n",
    "dic.update({'e':123, 'f': 999})\n",
    "print dic\n",
    "\n",
    "# iter the dictionary\n",
    "for rec in dic:\n",
    "    print rec, dic[rec]"
   ]
  },
  {
   "cell_type": "code",
   "execution_count": 23,
   "metadata": {
    "collapsed": false
   },
   "outputs": [
    {
     "name": "stdout",
     "output_type": "stream",
     "text": [
      "True\n",
      "False\n"
     ]
    }
   ],
   "source": [
    "\n",
    "print 'f' in dic\n",
    "print 'g' in dic"
   ]
  },
  {
   "cell_type": "code",
   "execution_count": 24,
   "metadata": {
    "collapsed": false
   },
   "outputs": [
    {
     "name": "stdout",
     "output_type": "stream",
     "text": [
      "{'qoo': 123}\n",
      "123\n",
      "468\n"
     ]
    }
   ],
   "source": [
    "dic = {}\n",
    "dic['qoo'] = 123\n",
    "\n",
    "print dic\n",
    "print dic['qoo']\n",
    "print dic['qoo'] + 345"
   ]
  },
  {
   "cell_type": "code",
   "execution_count": 25,
   "metadata": {
    "collapsed": false,
    "scrolled": true
   },
   "outputs": [
    {
     "name": "stdout",
     "output_type": "stream",
     "text": [
      "3.13.2\n",
      "經濟部工業局\n",
      "110臺北市信義區信義路路三段41-3號\n",
      "軟體採購辦公室\n",
      "(02)66072558\n"
     ]
    }
   ],
   "source": [
    "\n",
    "dic = {\"機關代碼\":\"\", \"機關名稱\":\"\", \"機關地址\":\"\", \"聯絡人\": \"\", \"聯絡電話\": \"\"}\n",
    "\n",
    "for row in soup.select('tr.award_table_tr_1'):\n",
    "    th = row.select('th')\n",
    "    if len(th) > 0 :\n",
    "        if th[0].text.encode('utf-8').strip() in dic:\n",
    "            print row.select('td')[0].text.strip()      "
   ]
  },
  {
   "cell_type": "code",
   "execution_count": 26,
   "metadata": {
    "collapsed": true
   },
   "outputs": [],
   "source": [
    "dic = {\"機關代碼\":\"\", \"機關名稱\":\"\", \"機關地址\":\"\", \"聯絡人\": \"\", \"聯絡電話\": \"\"}\n",
    "\n",
    "for row in soup.select('tr.award_table_tr_1'):\n",
    "    th = row.select('th')\n",
    "    if len(th) > 0 :\n",
    "        colname = th[0].text.encode('utf-8').strip() \n",
    "        if colname in dic:\n",
    "            value = row.select('td')[0].text.strip()  \n",
    "            dic[colname] = value"
   ]
  },
  {
   "cell_type": "code",
   "execution_count": 27,
   "metadata": {
    "collapsed": false
   },
   "outputs": [
    {
     "name": "stdout",
     "output_type": "stream",
     "text": [
      "{'\\xe8\\x81\\xaf\\xe7\\xb5\\xa1\\xe4\\xba\\xba': u'\\u8edf\\u9ad4\\u63a1\\u8cfc\\u8fa6\\u516c\\u5ba4', '\\xe6\\xa9\\x9f\\xe9\\x97\\x9c\\xe5\\x90\\x8d\\xe7\\xa8\\xb1': u'\\u7d93\\u6fdf\\u90e8\\u5de5\\u696d\\u5c40', '\\xe6\\xa9\\x9f\\xe9\\x97\\x9c\\xe4\\xbb\\xa3\\xe7\\xa2\\xbc': u'3.13.2', '\\xe8\\x81\\xaf\\xe7\\xb5\\xa1\\xe9\\x9b\\xbb\\xe8\\xa9\\xb1': u'(02)66072558', '\\xe6\\xa9\\x9f\\xe9\\x97\\x9c\\xe5\\x9c\\xb0\\xe5\\x9d\\x80': u'110\\u81fa\\u5317\\u5e02\\u4fe1\\u7fa9\\u5340\\u4fe1\\u7fa9\\u8def\\u8def\\u4e09\\u6bb541-3\\u865f'}\n"
     ]
    }
   ],
   "source": [
    "\n",
    "print dic"
   ]
  },
  {
   "cell_type": "code",
   "execution_count": 28,
   "metadata": {
    "collapsed": false
   },
   "outputs": [
    {
     "name": "stdout",
     "output_type": "stream",
     "text": [
      "聯絡人 軟體採購辦公室\n",
      "機關名稱 經濟部工業局\n",
      "機關代碼 3.13.2\n",
      "聯絡電話 (02)66072558\n",
      "機關地址 110臺北市信義區信義路路三段41-3號\n"
     ]
    }
   ],
   "source": [
    "for ele in dic:\n",
    "    print ele, dic[ele]"
   ]
  },
  {
   "cell_type": "code",
   "execution_count": 29,
   "metadata": {
    "collapsed": true
   },
   "outputs": [],
   "source": [
    "dic = {\"標的分類\": \"\"}\n",
    "\n",
    "for row in soup.select('tr'):\n",
    "    th = row.select('th')\n",
    "    if len(th) > 0 :\n",
    "        colname = th[0].text.encode('utf-8').strip() \n",
    "        if colname in dic:\n",
    "            value = row.select('td')[0].text.strip()  \n",
    "            dic[colname] = value"
   ]
  },
  {
   "cell_type": "code",
   "execution_count": 31,
   "metadata": {
    "collapsed": false
   },
   "outputs": [
    {
     "name": "stdout",
     "output_type": "stream",
     "text": [
      "標的分類 <勞務類>    \r\n",
      "                            842\r\n",
      "                            軟體執行服務\n"
     ]
    }
   ],
   "source": [
    "\n",
    "for ele in dic:\n",
    "    print ele, dic[ele]"
   ]
  },
  {
   "cell_type": "code",
   "execution_count": 32,
   "metadata": {
    "collapsed": false
   },
   "outputs": [
    {
     "name": "stdout",
     "output_type": "stream",
     "text": [
      "\t\t string \n",
      "\t\n",
      "'\\t\\t string \\n\\t'\n"
     ]
    }
   ],
   "source": [
    "a = '\\t\\t string \\n\\t'\n",
    "print a\n",
    "print repr(a)"
   ]
  },
  {
   "cell_type": "code",
   "execution_count": 33,
   "metadata": {
    "collapsed": false
   },
   "outputs": [
    {
     "name": "stdout",
     "output_type": "stream",
     "text": [
      "標的分類 u'<\\u52de\\u52d9\\u985e>    \\r\\n                            842\\r\\n                            \\u8edf\\u9ad4\\u57f7\\u884c\\u670d\\u52d9'\n"
     ]
    }
   ],
   "source": [
    "for ele in dic:\n",
    "    print ele, repr(dic[ele])"
   ]
  },
  {
   "cell_type": "code",
   "execution_count": 34,
   "metadata": {
    "collapsed": false,
    "scrolled": true
   },
   "outputs": [
    {
     "name": "stdout",
     "output_type": "stream",
     "text": [
      "['123', '555', '111', '99']\n",
      "['123', '555,111,99']\n",
      "['123', '555', '111,99']\n",
      "['123', '555', '111', '99']\n"
     ]
    }
   ],
   "source": [
    "a = '123,555,111,99' \n",
    "print a.split(',') \n",
    "print a.split(',',1)\n",
    "print a.split(',',2)\n",
    "print a.split(',',3)"
   ]
  },
  {
   "cell_type": "code",
   "execution_count": 35,
   "metadata": {
    "collapsed": false
   },
   "outputs": [
    {
     "data": {
      "text/plain": [
       "'123@555@111@99'"
      ]
     },
     "execution_count": 35,
     "metadata": {},
     "output_type": "execute_result"
    }
   ],
   "source": [
    "''.join(a.split(','))\n",
    "'@'.join(a.split(','))"
   ]
  },
  {
   "cell_type": "code",
   "execution_count": 36,
   "metadata": {
    "collapsed": false
   },
   "outputs": [
    {
     "name": "stdout",
     "output_type": "stream",
     "text": [
      "標的分類 <勞務類> 842 軟體執行服務\n"
     ]
    }
   ],
   "source": [
    "for ele in dic:\n",
    "    print ele, ' '.join(dic[ele].split())"
   ]
  },
  {
   "cell_type": "code",
   "execution_count": 37,
   "metadata": {
    "collapsed": false
   },
   "outputs": [
    {
     "name": "stdout",
     "output_type": "stream",
     "text": [
      "2015-07-31\n",
      "2015-07-31 13:46:32 Jul\n",
      "2014-05-03 14:00:00\n",
      "2014-05-04 14:00:00\n",
      "2014-05-02 14:00:00\n",
      "453\n"
     ]
    }
   ],
   "source": [
    "from datetime import date,datetime, timedelta \n",
    "currenttime = datetime.now()\n",
    "print currenttime.strftime(\"%Y-%m-%d\")\n",
    "print currenttime.strftime(\"%Y-%m-%d %H:%M:%S %b\")\n",
    "\n",
    "\n",
    "a = '2014-05-03 14:00'\n",
    "print datetime.strptime(a, \"%Y-%m-%d %H:%M\")\n",
    "\n",
    "dt = datetime.strptime(a, \"%Y-%m-%d %H:%M\")\n",
    "print dt + timedelta(days =1 )\n",
    "print dt - timedelta(days =1 )\n",
    "\n",
    "\n",
    "print (currenttime - dt).days"
   ]
  },
  {
   "cell_type": "code",
   "execution_count": 38,
   "metadata": {
    "collapsed": false
   },
   "outputs": [
    {
     "name": "stdout",
     "output_type": "stream",
     "text": [
      "['102', '12', '10 10:30']\n",
      "102\n"
     ]
    }
   ],
   "source": [
    "response_date = '102/12/10 10:30' \n",
    "print response_date.split('/')\n",
    "getyear = response_date.split('/', 1)\n",
    "print getyear[0]"
   ]
  },
  {
   "cell_type": "code",
   "execution_count": 39,
   "metadata": {
    "collapsed": false
   },
   "outputs": [
    {
     "name": "stdout",
     "output_type": "stream",
     "text": [
      "2013\n",
      "2013-12-10 10:30:00\n",
      "2014-12-10 10:30:00\n"
     ]
    }
   ],
   "source": [
    "adyear = str(int(getyear[0]) + 1911)\n",
    "print adyear \n",
    "bctime =  adyear + '/' +getyear[1]\n",
    "\n",
    "dt = datetime.strptime(bctime, \"%Y/%m/%d %H:%M\")\n",
    "print dt\n",
    "print dt + timedelta(days  = 365)"
   ]
  },
  {
   "cell_type": "code",
   "execution_count": 40,
   "metadata": {
    "collapsed": false
   },
   "outputs": [
    {
     "name": "stdout",
     "output_type": "stream",
     "text": [
      "0912345678\n",
      "0912\n",
      "0912-345678\n",
      "09-12-345-678\n",
      "0912-345-678\n",
      "0912-345678\n",
      "0912345678\n"
     ]
    },
    {
     "ename": "AttributeError",
     "evalue": "'NoneType' object has no attribute 'group'",
     "output_type": "error",
     "traceback": [
      "\u001b[1;31m---------------------------------------------------------------------------\u001b[0m",
      "\u001b[1;31mAttributeError\u001b[0m                            Traceback (most recent call last)",
      "\u001b[1;32m<ipython-input-40-02e155631f9d>\u001b[0m in \u001b[0;36m<module>\u001b[1;34m()\u001b[0m\n\u001b[0;32m     34\u001b[0m \u001b[1;32mprint\u001b[0m \u001b[0mm2\u001b[0m\u001b[1;33m.\u001b[0m\u001b[0mgroup\u001b[0m\u001b[1;33m(\u001b[0m\u001b[1;36m1\u001b[0m\u001b[1;33m)\u001b[0m\u001b[1;33m\u001b[0m\u001b[0m\n\u001b[0;32m     35\u001b[0m \u001b[1;32mprint\u001b[0m \u001b[0mm3\u001b[0m\u001b[1;33m.\u001b[0m\u001b[0mgroup\u001b[0m\u001b[1;33m(\u001b[0m\u001b[1;36m1\u001b[0m\u001b[1;33m)\u001b[0m\u001b[1;33m\u001b[0m\u001b[0m\n\u001b[1;32m---> 36\u001b[1;33m \u001b[1;32mprint\u001b[0m \u001b[0mm4\u001b[0m\u001b[1;33m.\u001b[0m\u001b[0mgroup\u001b[0m\u001b[1;33m(\u001b[0m\u001b[1;36m1\u001b[0m\u001b[1;33m)\u001b[0m\u001b[1;33m\u001b[0m\u001b[0m\n\u001b[0m",
      "\u001b[1;31mAttributeError\u001b[0m: 'NoneType' object has no attribute 'group'"
     ]
    }
   ],
   "source": [
    "a = '0912345678'\n",
    "import re\n",
    "m = re.match('(\\d+)', a)\n",
    "if m:\n",
    "    print m.group(1)\n",
    "    \n",
    "a = '0912-345678'\n",
    "import re\n",
    "m = re.match('(\\d+)', a)\n",
    "print m.group(1)\n",
    "\n",
    "\n",
    "a = '0912-345678'\n",
    "import re\n",
    "m = re.match('([\\d-]+)', a)\n",
    "print m.group(1)\n",
    "\n",
    "\n",
    "a = '09-12-345-678'\n",
    "m = re.match('([\\d-]+)', a)\n",
    "print m.group(1)\n",
    "\n",
    "\n",
    "a = '0912-345-678'\n",
    "b = '0912-345678'\n",
    "c = '0912345678'\n",
    "d = '09123456781231928318391890239021830280183029830'\n",
    "\n",
    "m1 = re.match('(^\\d{4}-?\\d{3}-?\\d{3}$)', a)\n",
    "m2 = re.match('(^\\d{4}-?\\d{3}-?\\d{3}$)', b)\n",
    "m3 = re.match('(^\\d{4}-?\\d{3}-?\\d{3}$)', c)\n",
    "m4 = re.match('(^\\d{4}-?\\d{3}-?\\d{3}$)', d)\n",
    "print m1.group(1)\n",
    "print m2.group(1)\n",
    "print m3.group(1)\n",
    "print m4.group(1)"
   ]
  },
  {
   "cell_type": "code",
   "execution_count": 41,
   "metadata": {
    "collapsed": false
   },
   "outputs": [
    {
     "name": "stdout",
     "output_type": "stream",
     "text": [
      "this is my email: qoo123@oop.com.tw\n",
      "qoo123@oop.com.tw\n",
      "qoo123 oop.com.tw\n",
      "qoo123 oop.com.tw\n",
      "qoo123 oop.com.tw\n"
     ]
    }
   ],
   "source": [
    "a = 'this is my email: qoo123@oop.com.tw'\n",
    "m = re.match('(.+@.+)', a)\n",
    "print m.group(1)\n",
    "\n",
    "m = re.match('.*?([^ ]+@[^ ]+)', a)\n",
    "print m.group(1)\n",
    "\n",
    "m = re.match('.*?([^ ]+)@([^ ]+)', a)\n",
    "print m.group(1), m.group(2)\n",
    "\n",
    "m = re.match('.*?(?P<account>[^ ]+)@(?P<domain>[^ ]+)', a)\n",
    "print m.group('account'), m.group('domain')\n",
    "\n",
    "m = re.search('(?P<account>[^ ]+)@(?P<domain>[^ ]+)', a)\n",
    "print m.group('account'), m.group('domain')"
   ]
  },
  {
   "cell_type": "code",
   "execution_count": 42,
   "metadata": {
    "collapsed": true
   },
   "outputs": [],
   "source": [
    "import requests\n",
    "res = requests.get('http://24h.pchome.com.tw/prod/DRAA0C-A90067G2U')\n",
    "#print res.text"
   ]
  },
  {
   "cell_type": "code",
   "execution_count": 43,
   "metadata": {
    "collapsed": true
   },
   "outputs": [],
   "source": [
    "res = requests.get('http://ecapi.pchome.com.tw/ecshop/prodapi/v2/prod/DRAA0C-A90067G2U-000&fields=Seq,Id,Name,Nick,Store,PreOrdDate,SpeOrdDate,Price,Discount,Pic,Weight,ISBN,Qty,Bonus,isBig,isSpec,isCombine,isDiy,isRecyclable,isCarrier,isMedical,isBigCart,isSnapUp,isDescAndIntroSync,isFoodContents&_callback=jsonp_prod?_callback=jsonp_prod')"
   ]
  },
  {
   "cell_type": "code",
   "execution_count": 44,
   "metadata": {
    "collapsed": false
   },
   "outputs": [
    {
     "name": "stdout",
     "output_type": "stream",
     "text": [
      "2699\n"
     ]
    }
   ],
   "source": [
    "#print res.text\n",
    "\n",
    "import re\n",
    "m = re.search('Price\":{\"M\":\\d+,\"P\":(?P<price>\\d+)}', res.text)\n",
    "print m.group(1)"
   ]
  },
  {
   "cell_type": "code",
   "execution_count": 45,
   "metadata": {
    "collapsed": false
   },
   "outputs": [
    {
     "data": {
      "text/plain": [
       "2699"
      ]
     },
     "execution_count": 45,
     "metadata": {},
     "output_type": "execute_result"
    }
   ],
   "source": [
    "#print res.text\n",
    "import json\n",
    "m = re.search('jsonp_prod\\((.*)\\);}catch', res.text)\n",
    "jd = json.loads(m.group(1))\n",
    "jd['DRAA0C-A90067G2U-000']['Price']['P']"
   ]
  },
  {
   "cell_type": "code",
   "execution_count": 46,
   "metadata": {
    "collapsed": false
   },
   "outputs": [
    {
     "name": "stdout",
     "output_type": "stream",
     "text": [
      "352111\n"
     ]
    }
   ],
   "source": [
    "import re\n",
    "m = re.match( r\"([0-9,]+)元\", '352,111元') \n",
    "print ''.join(m.group(1).split(','))\n",
    "#print ''.join(m.group(1).split(','))"
   ]
  },
  {
   "cell_type": "code",
   "execution_count": 47,
   "metadata": {
    "collapsed": true
   },
   "outputs": [],
   "source": [
    "# -*- coding: utf-8 -*-\n",
    "from bs4 import BeautifulSoup\n",
    "from datetime import datetime\n",
    "import os, sys, re"
   ]
  },
  {
   "cell_type": "code",
   "execution_count": 48,
   "metadata": {
    "collapsed": true
   },
   "outputs": [],
   "source": [
    "def get_response_element (file_name): \n",
    "    f = open(file_name, 'r') \n",
    "    response_text = f.read()\n",
    "    f.close()\n",
    "    soup = BeautifulSoup(response_text)\n",
    "    tr = soup.select('tr')\n",
    "    ary = []\n",
    "    for ele in tr:\n",
    "        if ele.get('class') is not None and ele.get('class')[0] in ['award_table_tr_1', 'award_table_tr_2', 'award_table_tr_6']:\n",
    "            ary.append(ele)\n",
    "    return ary"
   ]
  },
  {
   "cell_type": "code",
   "execution_count": 49,
   "metadata": {
    "collapsed": true
   },
   "outputs": [],
   "source": [
    "def get_response_element (file_name): \n",
    "    f = open(file_name, 'r') \n",
    "    response_text = f.read()\n",
    "    f.close()\n",
    "    soup = BeautifulSoup(response_text)\n",
    "    tr = soup.select('tr')\n",
    "    ary = [ele for ele in tr if ele.get('class') is not None and \\\n",
    "           ele.get('class')[0] in ['award_table_tr_1', 'award_table_tr_2', 'award_table_tr_6']]\n",
    "    return ary"
   ]
  },
  {
   "cell_type": "code",
   "execution_count": 50,
   "metadata": {
    "collapsed": false
   },
   "outputs": [
    {
     "name": "stdout",
     "output_type": "stream",
     "text": [
      "2013-03-10 00:00:00\n"
     ]
    }
   ],
   "source": [
    "def date_conversion(element):\n",
    "    m = re.match(r\"(\\d+/\\d+/\\d+)\",element) \n",
    "    if m is not None:\n",
    "        t = m.group(1).split('/', 1) \n",
    "        if t[0] != '':\n",
    "            return datetime.strptime(str(int(t[0]) + 1911) + \"/\" + (''.join(t[1:]).split()[0] ), \"%Y/%m/%d\")\n",
    "    else:\n",
    "        return None\n",
    "    \n",
    "print date_conversion('102/03/10')"
   ]
  },
  {
   "cell_type": "code",
   "execution_count": 51,
   "metadata": {
    "collapsed": false
   },
   "outputs": [
    {
     "name": "stdout",
     "output_type": "stream",
     "text": [
      "123411\n"
     ]
    }
   ],
   "source": [
    "def money_conversion(element):\n",
    "    m = re.match(r\"([0-9,]+)元\", \"\".join(element.split())) \n",
    "    return int(''.join(m.group(1).split(',')))\n",
    "\n",
    "print money_conversion('123,411元')"
   ]
  },
  {
   "cell_type": "code",
   "execution_count": 52,
   "metadata": {
    "collapsed": false
   },
   "outputs": [
    {
     "name": "stdout",
     "output_type": "stream",
     "text": [
      "adfdafddfdssf\n"
     ]
    }
   ],
   "source": [
    "def remove_space(element): \n",
    "    return \"\".join(element.split())\n",
    "\n",
    "\n",
    "print remove_space('            \\t \\t adfdafd        dfd s sf       \\t\\n')"
   ]
  },
  {
   "cell_type": "code",
   "execution_count": 53,
   "metadata": {
    "collapsed": false
   },
   "outputs": [
    {
     "name": "stdout",
     "output_type": "stream",
     "text": [
      "[<tr class=\"award_table_tr_1\" id=\"noneDisWord\">\\n<td align=\"left\" class=\"T12\" colspan=\"4\">\\n     \\u8a3b\\uff1a\\n     <font color=\"red\">\\n<strong>\\n       \\u25ce\\n      </strong>\\n</font>\\n     \\u7d05\\u8272\\u5b57\\u9ad4\\u8868\\u793a\\u6b64\\u6b21\\u66f4\\u6b63\\u516c\\u544a\\u8207\\u524d\\u6b21\\u4e4b\\u5dee\\u7570\\uff0c\\u524d\\u6b21\\u516c\\u544a\\u5167\\u5bb9\\u65bc\\u6ed1\\u9f20\\u79fb\\u81f3\\u6587\\u5b57\\u4e0a\\u65b9\\u6642\\u81ea\\u52d5\\u986f\\u793a\\n    </td>\\n</tr>, <tr class=\"award_table_tr_1\">\\n<td align=\"center\" bgcolor=\"#89C0C7\" class=\"style1\" rowspan=\"8\" valign=\"middle\" width=\"38\">\\n<span class=\"newstop\">\\n      \\u6a5f\\n      <br/>\\n      \\u95dc\\n      <br/>\\n      \\u8cc7\\n      <br/>\\n      \\u6599\\n     </span>\\n</td>\\n</tr>, <tr class=\"award_table_tr_1\">\\n<th align=\"left\" bgcolor=\"#DAEBED\" class=\"T11b\" valign=\"middle\" width=\"200\">\\n     \\u6a5f\\u95dc\\u4ee3\\u78bc\\n    </th>\\n<td bgcolor=\"#EFF1F1\" class=\"newstop\" height=\"25\">\\n     3.13.2\\n    </td>\\n</tr>, <tr class=\"award_table_tr_1\">\\n<th align=\"left\" bgcolor=\"#DAEBED\" class=\"T11b\" valign=\"middle\" width=\"200\">\\n     \\u6a5f\\u95dc\\u540d\\u7a31\\n    </th>\\n<td bgcolor=\"#EFF1F1\" class=\"newstop\" height=\"25\">\\n     \\u7d93\\u6fdf\\u90e8\\u5de5\\u696d\\u5c40\\n    </td>\\n</tr>, <tr class=\"award_table_tr_1\">\\n<th align=\"left\" bgcolor=\"#DAEBED\" class=\"T11b\" valign=\"middle\" width=\"200\">\\n     \\u55ae\\u4f4d\\u540d\\u7a31\\n    </th>\\n<td bgcolor=\"#EFF1F1\" class=\"newstop\" height=\"25\">\\n     \\u96fb\\u5b50\\u8cc7\\u8a0a\\u7d44\\n    </td>\\n</tr>, <tr class=\"award_table_tr_1\">\\n<th align=\"left\" bgcolor=\"#DAEBED\" class=\"T11b\" valign=\"middle\" width=\"200\">\\n     \\u6a5f\\u95dc\\u5730\\u5740\\n    </th>\\n<td bgcolor=\"#EFF1F1\" class=\"newstop\" height=\"25\">\\n     110\\u81fa\\u5317\\u5e02\\u4fe1\\u7fa9\\u5340\\u4fe1\\u7fa9\\u8def\\u8def\\u4e09\\u6bb541-3\\u865f\\n    </td>\\n</tr>, <tr class=\"award_table_tr_1\">\\n<th align=\"left\" bgcolor=\"#DAEBED\" class=\"T11b\" valign=\"middle\" width=\"200\">\\n     \\u806f\\u7d61\\u4eba\\n    </th>\\n<td bgcolor=\"#EFF1F1\" class=\"newstop\" height=\"25\">\\n     \\u8edf\\u9ad4\\u63a1\\u8cfc\\u8fa6\\u516c\\u5ba4\\n    </td>\\n</tr>, <tr class=\"award_table_tr_1\">\\n<th align=\"left\" bgcolor=\"#DAEBED\" class=\"T11b\" valign=\"middle\" width=\"200\">\\n     \\u806f\\u7d61\\u96fb\\u8a71\\n    </th>\\n<td bgcolor=\"#EFF1F1\" class=\"newstop\" height=\"25\">\\n     (02)66072558\\n    </td>\\n</tr>, <tr class=\"award_table_tr_1\">\\n<th align=\"left\" bgcolor=\"#DAEBED\" class=\"T11b\" style=\"height: 25px\" valign=\"middle\" width=\"200\">\\n     \\u50b3\\u771f\\u865f\\u78bc\\n    </th>\\n<td bgcolor=\"#EFF1F1\" class=\"newstop\" height=\"25\">\\n     (02)66006717\\n    </td>\\n</tr>, <tr class=\"award_table_tr_2\">\\n<td align=\"center\" bgcolor=\"#FCD847\" class=\"form_head\" rowspan=\"30 \" valign=\"middle\" width=\"38\">\\n<span class=\"newstop\">\\n      \\u5df2\\n      <br/>\\n      \\u516c\\n      <br/>\\n      \\u544a\\n      <br/>\\n      \\u8cc7\\n      <br/>\\n      \\u6599\\n     </span>\\n</td>\\n</tr>, <tr class=\"award_table_tr_2\">\\n<th align=\"left\" bgcolor=\"#FFFF99\" class=\"T11b\" valign=\"middle\" width=\"200\">\\n     \\u6a19\\u6848\\u6848\\u865f\\n    </th>\\n<td bgcolor=\"#EFF1F1\" class=\"newstop\">\\n     1040202\\n    </td>\\n</tr>, <tr class=\"award_table_tr_2\">\\n<th align=\"left\" bgcolor=\"#FFFF99\" class=\"T11b\" valign=\"middle\" width=\"200\">\\n     \\u62db\\u6a19\\u65b9\\u5f0f\\n    </th>\\n<td bgcolor=\"#EFF1F1\" class=\"newstop\">\\n     \\u9650\\u5236\\u6027\\u62db\\u6a19(\\u7d93\\u516c\\u958b\\u8a55\\u9078\\u6216\\u516c\\u958b\\u5fb5\\u6c42)\\n     <div class=\"remind_msg\">\\n</div>\\n</td>\\n</tr>, <tr class=\"award_table_tr_2\">\\n<th align=\"left\" bgcolor=\"#FFFF99\" class=\"T11b\" valign=\"middle\" width=\"200\">\\n     \\u6c7a\\u6a19\\u65b9\\u5f0f\\n    </th>\\n<td bgcolor=\"#EFF1F1\" class=\"newstop\">\\n     \\u6e96\\u7528\\u6700\\u6709\\u5229\\u6a19\\n     <div class=\"remind_msg\">\\n</div>\\n</td>\\n</tr>, <tr class=\"award_table_tr_2\">\\n<th align=\"left\" bgcolor=\"#FFFF99\" class=\"T11b\" valign=\"middle\" width=\"200\">\\n     \\u65b0\\u589e\\u516c\\u544a\\u50b3\\u8f38\\u6b21\\u6578\\n    </th>\\n<td bgcolor=\"#EFF1F1\" class=\"newstop\">\\n     01\\n    </td>\\n</tr>, <tr class=\"award_table_tr_2\">\\n<th bgcolor=\"#FFFF99\" class=\"T11b\" width=\"200\">\\n     \\u516c\\u544a\\u66f4\\u6b63\\u5e8f\\u865f\\n    </th>\\n<td bgcolor=\"#EFF1F1\" class=\"newstop\">\\n     01\\n    </td>\\n</tr>, <tr class=\"award_table_tr_2\">\\n<th align=\"left\" bgcolor=\"#FFFF99\" class=\"T11b\" valign=\"middle\" width=\"200\">\\n     \\u662f\\u5426\\u4f9d\\u64da\\u63a1\\u8cfc\\u6cd5\\u7b2c106\\u689d\\u7b2c1\\u9805\\u7b2c1\\u6b3e\\u8fa6\\u7406\\n    </th>\\n<td bgcolor=\"#EFF1F1\" class=\"newstop\">\\n     \\u5426\\n    </td>\\n</tr>, <tr class=\"award_table_tr_2\">\\n<th align=\"left\" bgcolor=\"#FFFF99\" class=\"T11b\" valign=\"middle\" width=\"200\">\\n     \\u6a19\\u6848\\u540d\\u7a31\\n    </th>\\n<td bgcolor=\"#EFF1F1\" class=\"newstop\">\\n     104\\u5e74\\u7b2c\\u4e8c\\u6b21\\u96fb\\u8166\\u8edf\\u9ad4\\u5171\\u540c\\u4f9b\\u61c9\\u5951\\u7d04\\u63a1\\u8cfc\\uff0d\\u96f2\\u7aef\\u670d\\u52d9\\n    </td>\\n</tr>, <tr class=\"award_table_tr_2\">\\n<th align=\"left\" bgcolor=\"#FFFF99\" class=\"T11b\" valign=\"middle\" width=\"200\">\\n     \\u6c7a\\u6a19\\u8cc7\\u6599\\u985e\\u5225\\n    </th>\\n<td bgcolor=\"#EFF1F1\" class=\"newstop\">\\n     \\u6c7a\\u6a19\\u516c\\u544a\\n    </td>\\n</tr>, <tr class=\"award_table_tr_2\">\\n<th align=\"left\" bgcolor=\"#FFFF99\" class=\"T11b\" valign=\"middle\" width=\"200\">\\n     \\u662f\\u5426\\u5c6c\\u5171\\u540c\\u4f9b\\u61c9\\u5951\\u7d04\\u63a1\\u8cfc\\n    </th>\\n<td bgcolor=\"#EFF1F1\" class=\"newstop\">\\n     \\u662f\\n    </td>\\n</tr>, <tr class=\"award_table_tr_2\">\\n<th align=\"left\" bgcolor=\"#FFFF99\" class=\"T11b\" valign=\"middle\" width=\"200\">\\n     \\u662f\\u5426\\u5c6c\\u4e8c\\u4ee5\\u4e0a\\u6a5f\\u95dc\\u4e4b\\u806f\\u5408\\u63a1\\u8cfc(\\u4e0d\\u9069\\u7528\\u5171\\u540c\\u4f9b\\u61c9\\u5951\\u7d04\\u898f\\u5b9a)\\n    </th>\\n<td bgcolor=\"#EFF1F1\" class=\"newstop\">\\n     \\u5426\\n    </td>\\n</tr>, <tr class=\"award_table_tr_2\">\\n<th align=\"left\" bgcolor=\"#FFFF99\" class=\"T11b\" valign=\"middle\" width=\"200\">\\n     \\u662f\\u5426\\u8907\\u6578\\u6c7a\\u6a19\\n    </th>\\n<td bgcolor=\"#EFF1F1\" class=\"newstop\">\\n     \\u662f\\n    </td>\\n</tr>, <tr class=\"award_table_tr_2\">\\n<th align=\"left\" bgcolor=\"#FFFF99\" class=\"T11b\" valign=\"middle\" width=\"200\">\\n     \\u6a19\\u7684\\u5206\\u985e\\n    </th>\\n<td bgcolor=\"#EFF1F1\" class=\"newstop\">\\n     &lt;\\u52de\\u52d9\\u985e&gt;    \\r\\n                            842\\r\\n                            \\u8edf\\u9ad4\\u57f7\\u884c\\u670d\\u52d9\\n    </td>\\n</tr>, <tr class=\"award_table_tr_2\">\\n<th align=\"left\" bgcolor=\"#FFFF99\" class=\"T11b\" valign=\"middle\" width=\"200\">\\n     \\u662f\\u5426\\u5c6c\\u7d71\\u5305\\n    </th>\\n<td bgcolor=\"#EFF1F1\" class=\"newstop\">\\n     \\u5426\\n    </td>\\n</tr>, <tr class=\"award_table_tr_2\">\\n<th align=\"left\" bgcolor=\"#FFFF99\" class=\"T11b\" valign=\"middle\" width=\"200\">\\n     \\u662f\\u5426\\u61c9\\u4f9d\\u516c\\u5171\\u5de5\\u7a0b\\u5c08\\u696d\\u6280\\u5e2b\\u7c3d\\u8b49\\u898f\\u5247\\u5be6\\u65bd\\u6280\\u5e2b\\u7c3d\\u8b49\\n    </th>\\n<td bgcolor=\"#EFF1F1\" class=\"newstop\">\\n     \\u5426\\n    </td>\\n</tr>, <tr class=\"award_table_tr_2\">\\n<th align=\"left\" bgcolor=\"#FFFF99\" class=\"T11b\" valign=\"middle\" width=\"200\">\\n     \\u958b\\u6a19\\u6642\\u9593\\n    </th>\\n<td bgcolor=\"#EFF1F1\" class=\"newstop\">\\n     104/05/19 09:30\\n    </td>\\n</tr>, <tr class=\"award_table_tr_2\">\\n<th align=\"left\" bgcolor=\"#FFFF99\" class=\"T11b\" valign=\"middle\" width=\"200\">\\n     \\u539f\\u516c\\u544a\\u65e5\\u671f\\n    </th>\\n<td bgcolor=\"#EFF1F1\" class=\"newstop\">\\n     104/04/27\\n    </td>\\n</tr>, <tr class=\"award_table_tr_2\">\\n<th align=\"left\" bgcolor=\"#FFFF99\" class=\"T11b\" valign=\"middle\" width=\"200\">\\n     \\u63a1\\u8cfc\\u91d1\\u984d\\u7d1a\\u8ddd\\n    </th>\\n<td bgcolor=\"#EFF1F1\" class=\"newstop\">\\n     \\u5de8\\u984d\\n     <div class=\"remind_msg\">\\n</div>\\n</td>\\n</tr>, <tr class=\"award_table_tr_2\">\\n<th align=\"left\" bgcolor=\"#FFFF99\" class=\"T11b\" valign=\"middle\" width=\"200\">\\n     \\u8fa6\\u7406\\u65b9\\u5f0f\\n    </th>\\n<td bgcolor=\"#EFF1F1\" class=\"newstop\">\\n     \\u81ea\\u8fa6\\n    </td>\\n</tr>, <tr class=\"award_table_tr_2\">\\n<th align=\"left\" bgcolor=\"#FFFF99\" class=\"T11b\" valign=\"middle\" width=\"200\">\\n     \\u9650\\u5236\\u6027\\u62db\\u6a19\\n     <br>\\n      \\u4f9d\\u64da\\u4e4b\\u6cd5\\u689d\\n     </br>\\n</th>\\n<td bgcolor=\"#EFF1F1\" class=\"newstop\">\\n     \\u63a1\\u8cfc\\u6cd5\\u7b2c22\\u689d\\u7b2c1\\u9805\\u7b2c9\\u6b3e\\n    </td>\\n</tr>, <tr class=\"award_table_tr_2\">\\n<th align=\"left\" bgcolor=\"#FFFF99\" class=\"T11b\" valign=\"middle\" width=\"200\">\\n     \\u662f\\u5426\\u9069\\u7528\\u689d\\u7d04\\u6216\\n     <br>\\n      \\u5354\\u5b9a\\u4e4b\\u63a1\\u8cfc\\n     </br>\\n</th>\\n<td bgcolor=\"#EFF1F1\" class=\"newstop\">\\n<style type=\"text/css\">\\n      .gpa_shift {\\r\\n\\t\\tmargin-left: 30px;\\r\\n\\t}\\r\\n\\t.gpa_shift2 {\\r\\n\\t\\tmargin-left: 60px;\\r\\n\\t}\\r\\n\\t.gpa_error_msg {\\r\\n\\t\\tcolor:#FF0000;\\r\\n\\t\\tfont-size:10pt;\\r\\n\\t}\\n     </style>\\n<strong>\\n      \\u662f\\u5426\\u9069\\u7528WTO\\u653f\\u5e9c\\u63a1\\u8cfc\\u5354\\u5b9a(GPA)\\uff1a\\n     </strong>\\n     \\u662f\\n     <hr>\\n<strong>\\n       \\u662f\\u5426\\u9069\\u7528\\u81fa\\u7d10\\u7d93\\u6fdf\\u5408\\u4f5c\\u5354\\u5b9a(ANZTEC)\\uff1a\\n      </strong>\\n      \\u662f\\n      <hr>\\n<strong>\\n        \\u662f\\u5426\\u9069\\u7528\\u81fa\\u661f\\u7d93\\u6fdf\\u5925\\u4f34\\u5354\\u5b9a(ASTEP)\\uff1a\\n       </strong>\\n       \\u662f\\n      </hr>\\n</hr>\\n</td>\\n</tr>, <tr class=\"award_table_tr_2\">\\n<th align=\"left\" bgcolor=\"#FFFF99\" class=\"T11b\" valign=\"middle\" width=\"200\">\\n     \\u9810\\u7b97\\u91d1\\u984d\\u662f\\u5426\\u516c\\u958b\\n    </th>\\n<td bgcolor=\"#EFF1F1\" class=\"newstop\">\\n     \\u662f\\n    </td>\\n</tr>, <tr class=\"award_table_tr_2\">\\n<th align=\"left\" bgcolor=\"#FFFF99\" class=\"T11b\" valign=\"middle\" width=\"200\">\\n     \\u9810\\u7b97\\u91d1\\u984d\\n    </th>\\n<td bgcolor=\"#EFF1F1\" class=\"newstop\">\\n     1,663,050,791\\u5143\\n    </td>\\n</tr>, <tr class=\"award_table_tr_2\">\\n<th align=\"left\" bgcolor=\"#FFFF99\" class=\"T11b\" valign=\"middle\" width=\"200\">\\n     \\u662f\\u5426\\u53d7\\u6a5f\\u95dc\\u88dc\\u52a9\\n    </th>\\n<td bgcolor=\"#EFF1F1\" class=\"newstop\">\\n     \\u5426\\n    </td>\\n</tr>, <tr class=\"award_table_tr_2\">\\n<th align=\"left\" bgcolor=\"#FFFF99\" class=\"T11b\" valign=\"middle\" width=\"200\">\\n     \\u5c65\\u7d04\\u5730\\u9ede\\n    </th>\\n<td bgcolor=\"#EFF1F1\" class=\"newstop\">\\n     \\u5176\\u4ed6\\n    </td>\\n</tr>, <tr class=\"award_table_tr_2\">\\n<th align=\"left\" bgcolor=\"#FFFF99\" class=\"T11b\" valign=\"middle\" width=\"200\">\\n     \\u5c65\\u7d04\\u5730\\u9ede\\uff08\\u542b\\u5730\\u5340\\uff09\\n    </th>\\n<td bgcolor=\"#EFF1F1\" class=\"newstop\">\\n     \\u81fa\\u5317\\u5e02\\uff0d\\u5168\\u5340,\\u57fa\\u9686\\u5e02\\uff0d\\u5168\\u5340,\\u65b0\\u5317\\u5e02\\uff0d\\u5168\\u5340,\\u5b9c\\u862d\\u7e23\\uff0d\\u5168\\u5340,\\u65b0\\u7af9\\u5e02,\\u65b0\\u7af9\\u7e23\\uff0d\\u5168\\u5340,\\u6843\\u5712\\u5e02\\uff0d\\u5168\\u5340,\\u82d7\\u6817\\u7e23\\uff0d\\u5168\\u5340,\\u81fa\\u4e2d\\u5e02\\uff0d\\u5168\\u5340,\\u5f70\\u5316\\u7e23\\uff0d\\u5168\\u5340,\\u5357\\u6295\\u7e23\\uff0d\\u5168\\u5340,\\u5609\\u7fa9\\u5e02,\\u5609\\u7fa9\\u7e23\\uff0d\\u5168\\u5340,\\u96f2\\u6797\\u7e23\\uff0d\\u5168\\u5340,\\u81fa\\u5357\\u5e02\\uff0d\\u5168\\u5340,\\u9ad8\\u96c4\\u5e02\\uff0d\\u5168\\u5340,\\u5c4f\\u6771\\u7e23\\uff0d\\u5168\\u5340,\\u81fa\\u6771\\u7e23\\uff0d\\u5168\\u5340,\\u82b1\\u84ee\\u7e23\\uff0d\\u5168\\u5340,\\u91d1\\u9580\\u7e23\\uff0d\\u5168\\u5340,\\u6f8e\\u6e56\\u7e23\\uff0d\\u5168\\u5340,\\u9023\\u6c5f\\u7e23\\uff0d\\u5168\\u5340,\\u5176\\u4ed6\\uff0d\\u5176\\u4ed6\\n    </td>\\n</tr>, <tr class=\"award_table_tr_2\">\\n<th align=\"left\" bgcolor=\"#FFFF99\" class=\"T11b\" valign=\"middle\" width=\"200\">\\n     \\u662f\\u5426\\u5c6c\\u512a\\u5148\\u63a1\\u8cfc\\u8eab\\u5fc3\\u969c\\u7919\\u798f\\u5229\\u6a5f\\u69cb\\u7522\\u54c1\\u6216\\u52de\\u52d9\\n    </th>\\n<td bgcolor=\"#EFF1F1\" class=\"newstop\">\\n     \\u5426\\n    </td>\\n</tr>, <tr class=\"award_table_tr_2\">\\n<th align=\"left\" bgcolor=\"#FFFF99\" class=\"T11b\" valign=\"middle\" width=\"200\">\\n     \\u662f\\u5426\\u542b\\u7279\\u5225\\u9810\\u7b97\\n    </th>\\n<td bgcolor=\"#EFF1F1\" class=\"newstop\">\\n     \\u5426\\n    </td>\\n</tr>, <tr class=\"award_table_tr_2\">\\n<th align=\"left\" bgcolor=\"#FFFF99\" class=\"T11b\" valign=\"middle\" width=\"200\">\\n     \\u6b78\\u5c6c\\u8a08\\u756b\\u985e\\u5225\\n    </th>\\n<td bgcolor=\"#EFF1F1\" class=\"newstop\">\\n     \\u975e\\u5c6c\\u611b\\u53f0\\u5341\\u4e8c\\u9805\\u8a08\\u756b\\n    </td>\\n</tr>, <tr class=\"award_table_tr_2\">\\n<th align=\"left\" bgcolor=\"#FFFF99\" class=\"T11b\" valign=\"middle\" width=\"200\">\\n     \\u672c\\u6848\\u63a1\\u8cfc\\u5951\\u7d04\\u662f\\u5426\\u63a1\\u7528\\u4e3b\\u7ba1\\u6a5f\\u95dc\\u8a02\\u5b9a\\u4e4b\\u7bc4\\u672c\\n    </th>\\n<td bgcolor=\"#EFF1F1\" class=\"newstop\">\\n     \\u662f\\n    </td>\\n</tr>, <tr class=\"award_table_tr_6\">\\n<td align=\"center\" bgcolor=\"#c79961\" class=\"form_head\" rowspan=\"16\" valign=\"middle\" width=\"38\">\\n<span class=\"newstop\">\\n        \\u6c7a\\n        <br/>\\n        \\u6a19\\n        <br/>\\n        \\u8cc7\\n        <br/>\\n        \\u6599\\n       </span>\\n</td>\\n</tr>, <tr class=\"award_table_tr_6\">\\n<th bgcolor=\"#ddc09e\" class=\"T11b\" width=\"200\">\\n       \\u6c7a\\u6a19\\u516c\\u544a\\u5e8f\\u865f\\n      </th>\\n<td bgcolor=\"#EFF1F1\" class=\"newstop\">\\n       001\\n      </td>\\n</tr>, <tr class=\"award_table_tr_6\">\\n<th bgcolor=\"#ddc09e\" class=\"T11b\" width=\"200\">\\n       \\u516c\\u544a\\u66f4\\u6b63\\u5e8f\\u865f\\n      </th>\\n<td bgcolor=\"#EFF1F1\" class=\"newstop\">\\n<span style=\"color:red;font-weight:bold\" title=\"\\u524d\\u6b21\\u516c\\u544a\\u70ba\\uff1a000\">\\n        001\\n       </span>\\n</td>\\n</tr>, <tr class=\"award_table_tr_6\">\\n<th bgcolor=\"#ddc09e\" class=\"T11b\" width=\"200\">\\n       \\u6c7a\\u6a19\\u65e5\\u671f\\n      </th>\\n<td bgcolor=\"#EFF1F1\" class=\"newstop\">\\n       104/07/15\\n      </td>\\n</tr>, <tr class=\"award_table_tr_6\">\\n<th bgcolor=\"#ddc09e\" class=\"T11b\" width=\"200\">\\n       \\u539f\\u6c7a\\u6a19\\u516c\\u544a\\u65e5\\u671f\\n      </th>\\n<td bgcolor=\"#EFF1F1\" class=\"newstop\">\\n       104/07/24\\n      </td>\\n</tr>, <tr class=\"award_table_tr_6\">\\n<th bgcolor=\"#ddc09e\" class=\"T11b\" width=\"200\">\\n       \\u6c7a\\u6a19\\u516c\\u544a\\u65e5\\u671f\\n      </th>\\n<td bgcolor=\"#EFF1F1\" class=\"newstop\">\\n<span style=\"color:red;font-weight:bold\" title=\"\\u524d\\u6b21\\u516c\\u544a\\u70ba\\uff1a104/07/24\">\\n        104/07/28\\n       </span>\\n</td>\\n</tr>, <tr class=\"award_table_tr_6\">\\n<th bgcolor=\"#ddc09e\" class=\"T11b\" width=\"200\">\\n       \\u57f7\\u884c\\u73fe\\u6cc1\\n      </th>\\n<td bgcolor=\"#EFF1F1\" class=\"newstop\">\\n       \\u5168\\u6848\\u5df2\\u6c7a\\u6a19\\n      </td>\\n</tr>, <tr class=\"award_table_tr_6\">\\n<th bgcolor=\"#ddc09e\" class=\"T11b\" width=\"200\">\\n       \\u662f\\u5426\\u520a\\u767b\\u516c\\u5831\\n      </th>\\n<td bgcolor=\"#EFF1F1\" class=\"newstop\">\\n       \\u662f\\n      </td>\\n</tr>, <tr class=\"award_table_tr_6\">\\n<th bgcolor=\"#ddc09e\" class=\"T11b\" width=\"200\">\\n       \\u5e95\\u50f9\\u91d1\\u984d\\n      </th>\\n<td bgcolor=\"#EFF1F1\" class=\"newstop\">\\n       16,710,433\\u5143\\n      </td>\\n</tr>, <tr class=\"award_table_tr_6\">\\n<th bgcolor=\"#ddc09e\" class=\"T11b\" width=\"200\">\\n       \\u5e95\\u50f9\\u91d1\\u984d\\u662f\\u5426\\u516c\\u958b\\n      </th>\\n<td bgcolor=\"#EFF1F1\" class=\"newstop\">\\n       \\u662f\\n      </td>\\n</tr>, <tr class=\"award_table_tr_6\">\\n<th bgcolor=\"#ddc09e\" class=\"T11b\" width=\"200\">\\n       \\u7e3d\\u6c7a\\u6a19\\u91d1\\u984d\\n      </th>\\n<td bgcolor=\"#EFF1F1\" class=\"newstop\">\\n       16,584,937\\u5143\\n      </td>\\n</tr>, <tr class=\"award_table_tr_6\">\\n<th bgcolor=\"#ddc09e\" class=\"T11b\" width=\"200\">\\n       \\u7e3d\\u6c7a\\u6a19\\u91d1\\u984d\\u662f\\u5426\\u516c\\u958b\\n      </th>\\n<td bgcolor=\"#EFF1F1\" class=\"newstop\">\\n       \\u662f\\n      </td>\\n</tr>, <tr class=\"award_table_tr_6\">\\n<th bgcolor=\"#ddc09e\" class=\"T11b\" width=\"200\">\\n       \\u5951\\u7d04\\u662f\\u5426\\u8a02\\u6709\\u4f9d\\u7269\\u50f9\\u6307\\u6578\\u8abf\\u6574\\u50f9\\u91d1\\u898f\\u5b9a\\n      </th>\\n<td bgcolor=\"#EFF1F1\" class=\"newstop\">\\n       \\u5426\\n      </td>\\n</tr>, <tr class=\"award_table_tr_6\">\\n<th bgcolor=\"#ddc09e\" class=\"T11b\" width=\"200\">\\n       \\u672a\\u5217\\u7269\\u50f9\\u8abf\\u6574\\u898f\\u5b9a\\u8aaa\\u660e\\n      </th>\\n<td bgcolor=\"#EFF1F1\" class=\"newstop\">\\n       \\u52de\\u52d9\\u6848\\n      </td>\\n</tr>, <tr class=\"award_table_tr_6\">\\n<th bgcolor=\"#ddc09e\" class=\"T11b\" width=\"200\">\\n       \\u5c65\\u7d04\\u57f7\\u884c\\u6a5f\\u95dc\\n      </th>\\n<td bgcolor=\"#EFF1F1\" class=\"newstop\">\\n       \\u6a5f\\u95dc\\u4ee3\\u78bc\\uff1a3.13.2\\n       <br>\\n        \\u6a5f\\u95dc\\u540d\\u7a31\\uff1a\\u7d93\\u6fdf\\u90e8\\u5de5\\u696d\\u5c40\\n       </br>\\n</td>\\n</tr>, <tr class=\"award_table_tr_6\">\\n<th bgcolor=\"#ddc09e\" class=\"T11b\" width=\"200\">\\n       \\u9644\\u52a0\\u8aaa\\u660e\\n      </th>\\n<td bgcolor=\"#EFF1F1\" class=\"newstop\">\\n</td>\\n</tr>]\n"
     ]
    }
   ],
   "source": [
    "print get_response_element('gov/51603189_1040202.txt')"
   ]
  },
  {
   "cell_type": "code",
   "execution_count": 54,
   "metadata": {
    "collapsed": false
   },
   "outputs": [
    {
     "name": "stdout",
     "output_type": "stream",
     "text": [
      "我\n",
      "喜歡吃\n",
      "apple\n",
      "adfadfdsdfsfdsdfdfd\n",
      "adfadfsdfsdfsdfd\n"
     ]
    }
   ],
   "source": [
    "name_map = {'蘋果': 'apple'}\n",
    "\n",
    "a = '我 喜歡吃 蘋果'\n",
    "for ele in a.split():\n",
    "    if ele in name_map:\n",
    "        print name_map[ele]\n",
    "    else:\n",
    "        print ele\n",
    "\n",
    "def remove_space(element): \n",
    "    return \"\".join(element.split())\n",
    "\n",
    "name_map = {'upper': remove_space}\n",
    "\n",
    "print remove_space('adfadfd     sdf sfd    sdf dfd ')\n",
    "\n",
    "print name_map['upper']('adfadf     sdf sdf      sdf d')"
   ]
  },
  {
   "cell_type": "code",
   "execution_count": 55,
   "metadata": {
    "collapsed": true
   },
   "outputs": [],
   "source": [
    "\n",
    "name_map = {\"機關代碼\":\"entity_code\", \"機關名稱\":\"procuring_entity\",\"標案案號\":\"job_number\",\"招標方式\":\"procurement_type\",\\\n",
    "            \"決標方式\":\"tender_awarding_type\",\"標案名稱\":\"subject_of_procurement\", \"決標資料類別\":\"attr_of_tender_awarding\", \\\n",
    "            \"標的分類\":\"attr_of_procurement\", \"預算金額\":\"budget_value\", \"開標時間\":\"opening_date\",\"決標公告日期\":\"tender_awarding_announce_date\",\\\n",
    "            \"歸屬計畫類別\":\"project_type\",\"總決標金額\":\"total_tender_awarding_value\",\"底價金額\":\"floor_price_value\",\"決標日期\":\"tender_awarding_date\", \"pkAtmMain\":\"pkAtmMain\"}\n",
    "\n",
    "\n",
    "tender_awards_map = {\"機關代碼\":remove_space, \"機關名稱\":remove_space, \"標案案號\":remove_space, \\\n",
    "                       \"招標方式\":remove_space,\"決標方式\":remove_space,\"標案名稱\":remove_space, \"決標資料類別\":remove_space, \\\n",
    "                       \"標的分類\":remove_space, \"預算金額\":money_conversion, \"開標時間\":date_conversion,\"歸屬計畫類別\":remove_space, \\\n",
    "                       \"總決標金額\":money_conversion,\"底價金額\":money_conversion,\"決標日期\":date_conversion, \"決標公告日期\":date_conversion}"
   ]
  },
  {
   "cell_type": "code",
   "execution_count": 56,
   "metadata": {
    "collapsed": true
   },
   "outputs": [],
   "source": [
    "def get_award_info_dic (element): \n",
    "    returned_dic = {}\n",
    "    for row in element:\n",
    "        th = row.select('th')\n",
    "        #print th\n",
    "        if len(th) > 0:\n",
    "            th_name = th[0].text.encode('utf-8').strip()\n",
    "            if th_name in name_map:\n",
    "                td = row.select('td')\n",
    "                returned_dic[name_map[th_name]] = tender_awards_map[th_name](td[0].text.encode('utf-8').strip())\n",
    "    return returned_dic"
   ]
  },
  {
   "cell_type": "code",
   "execution_count": 57,
   "metadata": {
    "collapsed": false
   },
   "outputs": [
    {
     "name": "stdout",
     "output_type": "stream",
     "text": [
      "opening_date 2015-05-19 00:00:00\n",
      "total_tender_awarding_value 16584937\n",
      "tender_awarding_date 2015-07-15 00:00:00\n",
      "entity_code 3.13.2\n",
      "procurement_type 限制性招標(經公開評選或公開徵求)\n",
      "procuring_entity 經濟部工業局\n",
      "attr_of_procurement <勞務類>842軟體執行服務\n",
      "tender_awarding_announce_date 2015-07-28 00:00:00\n",
      "subject_of_procurement 104年第二次電腦軟體共同供應契約採購－雲端服務\n",
      "project_type 非屬愛台十二項計畫\n",
      "attr_of_tender_awarding 決標公告\n",
      "budget_value 1663050791\n",
      "floor_price_value 16710433\n",
      "job_number 1040202\n",
      "tender_awarding_type 準用最有利標\n"
     ]
    }
   ],
   "source": [
    "res =  get_response_element('gov/51603189_1040202.txt')\n",
    "award = get_award_info_dic(res)\n",
    "for ele in award:\n",
    "    print ele,award[ele] "
   ]
  },
  {
   "cell_type": "code",
   "execution_count": 58,
   "metadata": {
    "collapsed": false
   },
   "outputs": [
    {
     "name": "stdout",
     "output_type": "stream",
     "text": [
      "SQLite version: 3.6.21\n"
     ]
    }
   ],
   "source": [
    "import sqlite3 as lite \n",
    "import sys\n",
    "con = None\n",
    "try:\n",
    "    con = lite.connect('test.db') # connect to database\n",
    "    cur = con.cursor() # create cursor\n",
    "    cur.execute('SELECT SQLITE_VERSION()') # select database version \n",
    "    data = cur.fetchone() # fetch one data at a time\n",
    "    print \"SQLite version: %s\" % data\n",
    "except lite.Error, e:\n",
    "    print \"Error %s:\" % e.args[0] \n",
    "    sys.exit(1)\n",
    "finally:\n",
    "    if con:\n",
    "        con.close()"
   ]
  },
  {
   "cell_type": "code",
   "execution_count": 59,
   "metadata": {
    "collapsed": false
   },
   "outputs": [
    {
     "name": "stdout",
     "output_type": "stream",
     "text": [
      "[(u'0912173381', u'United State'), (u'0928375018', u'Tokyo Japan'), (u'0957209108', u'Taipei')]\n",
      "0912173381 United State\n",
      "0928375018 Tokyo Japan\n",
      "0957209108 Taipei\n"
     ]
    }
   ],
   "source": [
    "import sqlite3 as lite\n",
    "import sys\n",
    "con = lite.connect(\"test.db\")\n",
    "with con:\n",
    "    cur = con.cursor() # Drop Table If Exisits\n",
    "    cur.execute(\"DROP TABLE IF EXISTS PhoneAddress\")\n",
    "    cur.execute(\"CREATE TABLE PhoneAddress(phone CHAR(10) PRIMARY KEY, address TEXT, name TEXT unique, age INT NOT NULL)\")\n",
    "    cur.execute(\"INSERT INTO PhoneAddress VALUES('0912173381','United State','Jhon Doe',53)\") \n",
    "    cur.execute(\"INSERT INTO PhoneAddress VALUES('0928375018','Tokyo Japan','MuMu Cat',6)\") \n",
    "    cur.execute(\"INSERT INTO PhoneAddress VALUES('0957209108','Taipei','Richard',29)\") \n",
    "    cur.execute(\"SELECT phone,address FROM PhoneAddress\")\n",
    "    data = cur.fetchall()\n",
    "    print data\n",
    "    for rec in data:\n",
    "        print rec[0], rec[1] \n",
    "con.close()"
   ]
  },
  {
   "cell_type": "code",
   "execution_count": 60,
   "metadata": {
    "collapsed": false
   },
   "outputs": [
    {
     "name": "stdout",
     "output_type": "stream",
     "text": [
      "(0, u'phone', u'CHAR(10)', 0, None, 1)\n",
      "(1, u'address', u'TEXT', 0, None, 0)\n",
      "(2, u'name', u'TEXT', 0, None, 0)\n",
      "(3, u'age', u'INT', 1, None, 0)\n"
     ]
    }
   ],
   "source": [
    "import sqlite3 as lite\n",
    "import sys\n",
    "con = lite.connect(\"test.db\") \n",
    "with con:\n",
    "    cur = con.cursor()\n",
    "    # Read Meta Information\n",
    "    cur.execute(\"PRAGMA table_info(PhoneAddress)\") \n",
    "    rows = cur.fetchall()\n",
    "    for row in rows:\n",
    "        print row\n",
    "con.close()"
   ]
  },
  {
   "cell_type": "code",
   "execution_count": 61,
   "metadata": {
    "collapsed": false
   },
   "outputs": [
    {
     "name": "stdout",
     "output_type": "stream",
     "text": [
      "0912173381 United State\n",
      "================\n",
      "0928375018 Tokyo Japan\n",
      "================\n",
      "(u'0957209108', u'Taipei')\n"
     ]
    }
   ],
   "source": [
    "\n",
    "import sqlite3 as lite\n",
    "import sys\n",
    "con = lite.connect(\"test.db\")\n",
    "with con:\n",
    "    cur = con.cursor()\n",
    "    cur.execute(\"SELECT phone,address FROM PhoneAddress\") \n",
    "    data = cur.fetchone()\n",
    "    print data[0], data[1]\n",
    "    \n",
    "    print '================'\n",
    "    \n",
    "    data = cur.fetchone()\n",
    "    print data[0], data[1]\n",
    "    \n",
    "    print '================'\n",
    "    \n",
    "    rows = cur.fetchall() \n",
    "    for row in rows:\n",
    "        print row \n",
    "con.close()"
   ]
  },
  {
   "cell_type": "code",
   "execution_count": 62,
   "metadata": {
    "collapsed": true
   },
   "outputs": [],
   "source": [
    "# -*- coding: utf-8 -*- \n",
    "import sqlite3\n",
    "\n",
    "db = sqlite3.connect('tender.db') \n",
    "cur = db.cursor()"
   ]
  },
  {
   "cell_type": "code",
   "execution_count": 63,
   "metadata": {
    "collapsed": false
   },
   "outputs": [
    {
     "data": {
      "text/plain": [
       "<sqlite3.Cursor at 0x607de60>"
      ]
     },
     "execution_count": 63,
     "metadata": {},
     "output_type": "execute_result"
    }
   ],
   "source": [
    "cur.execute('''CREATE TABLE IF NOT EXISTS Tender_awards(\n",
    "                id INTEGER PRIMARY KEY,\n",
    "                pkAtmMain TEXT,\n",
    "                procuring_entity TEXT,\n",
    "                entity_code TEXT,\n",
    "                attr_of_procurement TEXT,\n",
    "                opening_date DATETIME,\n",
    "                procurement_type TEXT,\n",
    "                tender_awarding_type TEXT,\n",
    "                project_type TEXT,\n",
    "                subject_of_procurement TEXT,\n",
    "                job_number TEXT,\n",
    "                budget_value BIGINTEGER,\n",
    "                attr_of_tender_awarding TEXT,\n",
    "                floor_price_value BIGINTEGER,\n",
    "                tender_awarding_announce_date DATETIME,\n",
    "                tender_awarding_date DATETIME,\n",
    "                total_tender_awarding_value BIGINTEGER\n",
    "                )''')"
   ]
  },
  {
   "cell_type": "code",
   "execution_count": 64,
   "metadata": {
    "collapsed": false
   },
   "outputs": [
    {
     "name": "stdout",
     "output_type": "stream",
     "text": [
      "opening_date 2015-05-19 00:00:00\n",
      "total_tender_awarding_value 16584937\n",
      "tender_awarding_date 2015-07-15 00:00:00\n",
      "entity_code 3.13.2\n",
      "procurement_type 限制性招標(經公開評選或公開徵求)\n",
      "procuring_entity 經濟部工業局\n",
      "attr_of_procurement <勞務類>842軟體執行服務\n",
      "tender_awarding_announce_date 2015-07-28 00:00:00\n",
      "subject_of_procurement 104年第二次電腦軟體共同供應契約採購－雲端服務\n",
      "project_type 非屬愛台十二項計畫\n",
      "attr_of_tender_awarding 決標公告\n",
      "budget_value 1663050791\n",
      "floor_price_value 16710433\n",
      "job_number 1040202\n",
      "tender_awarding_type 準用最有利標\n"
     ]
    }
   ],
   "source": [
    "res =  get_response_element('gov/51603189_1040202.txt')\n",
    "award_info_dic = get_award_info_dic(res)\n",
    "for ele in award_info_dic:\n",
    "    print ele,award_info_dic[ele] "
   ]
  },
  {
   "cell_type": "code",
   "execution_count": 65,
   "metadata": {
    "collapsed": true
   },
   "outputs": [],
   "source": [
    "# insert into table(c1, c2) values(v1, v2)\n",
    "# insert into table(c1, c2) values(?, ?)"
   ]
  },
  {
   "cell_type": "code",
   "execution_count": 66,
   "metadata": {
    "collapsed": false
   },
   "outputs": [
    {
     "name": "stdout",
     "output_type": "stream",
     "text": [
      "aaaaaaaaaaaaaaa\n",
      "?, ?, ?, ?, ?, ?, ?, ?, ?, ?, ?, ?, ?, ?, ?\n",
      "INSERT INTO Tender_awards (opening_date, total_tender_awarding_value, tender_awarding_date, entity_code, procurement_type, procuring_entity, attr_of_procurement, tender_awarding_announce_date, subject_of_procurement, project_type, attr_of_tender_awarding, budget_value, floor_price_value, job_number, tender_awarding_type) VALUES (?, ?, ?, ?, ?, ?, ?, ?, ?, ?, ?, ?, ?, ?, ?)\n"
     ]
    }
   ],
   "source": [
    "columns = ', '.join(award_info_dic.keys())\n",
    "\n",
    "print 'a' * 15\n",
    "print ', '.join('?' * len(award_info_dic))\n",
    "\n",
    "columns = ', '.join(award_info_dic.keys()) \n",
    "placeholders = ', '.join('?' * len(award_info_dic)) \n",
    "sql = 'INSERT INTO Tender_awards ({}) VALUES ({})'.format(columns, placeholders) \n",
    "print sql"
   ]
  },
  {
   "cell_type": "code",
   "execution_count": 67,
   "metadata": {
    "collapsed": false
   },
   "outputs": [
    {
     "ename": "ProgrammingError",
     "evalue": "You must not use 8-bit bytestrings unless you use a text_factory that can interpret 8-bit bytestrings (like text_factory = str). It is highly recommended that you instead just switch your application to Unicode strings.",
     "output_type": "error",
     "traceback": [
      "\u001b[1;31m---------------------------------------------------------------------------\u001b[0m",
      "\u001b[1;31mProgrammingError\u001b[0m                          Traceback (most recent call last)",
      "\u001b[1;32m<ipython-input-67-691c88dba13b>\u001b[0m in \u001b[0;36m<module>\u001b[1;34m()\u001b[0m\n\u001b[0;32m      5\u001b[0m \u001b[0msql\u001b[0m \u001b[1;33m=\u001b[0m \u001b[1;34m'INSERT INTO Tender_awards ({}) VALUES ({})'\u001b[0m\u001b[1;33m.\u001b[0m\u001b[0mformat\u001b[0m\u001b[1;33m(\u001b[0m\u001b[0mcolumns\u001b[0m\u001b[1;33m,\u001b[0m \u001b[0mplaceholders\u001b[0m\u001b[1;33m)\u001b[0m\u001b[1;33m\u001b[0m\u001b[0m\n\u001b[0;32m      6\u001b[0m \u001b[1;31m#print sql\u001b[0m\u001b[1;33m\u001b[0m\u001b[1;33m\u001b[0m\u001b[0m\n\u001b[1;32m----> 7\u001b[1;33m \u001b[0mcur\u001b[0m\u001b[1;33m.\u001b[0m\u001b[0mexecute\u001b[0m\u001b[1;33m(\u001b[0m\u001b[0msql\u001b[0m\u001b[1;33m,\u001b[0m \u001b[0maward_info_dic\u001b[0m\u001b[1;33m.\u001b[0m\u001b[0mvalues\u001b[0m\u001b[1;33m(\u001b[0m\u001b[1;33m)\u001b[0m\u001b[1;33m)\u001b[0m\u001b[1;33m\u001b[0m\u001b[0m\n\u001b[0m\u001b[0;32m      8\u001b[0m \u001b[0mdb\u001b[0m\u001b[1;33m.\u001b[0m\u001b[0mcommit\u001b[0m\u001b[1;33m(\u001b[0m\u001b[1;33m)\u001b[0m\u001b[1;33m\u001b[0m\u001b[0m\n",
      "\u001b[1;31mProgrammingError\u001b[0m: You must not use 8-bit bytestrings unless you use a text_factory that can interpret 8-bit bytestrings (like text_factory = str). It is highly recommended that you instead just switch your application to Unicode strings."
     ]
    }
   ],
   "source": [
    "#print ', '.join(award_info_dic.keys())\n",
    "columns = ', '.join(award_info_dic.keys()) \n",
    "#', '.join('?' * len(award_info_dic))\n",
    "placeholders = ', '.join('?' * len(award_info_dic)) \n",
    "sql = 'INSERT INTO Tender_awards ({}) VALUES ({})'.format(columns, placeholders) \n",
    "#print sql\n",
    "cur.execute(sql, award_info_dic.values())\n",
    "db.commit()"
   ]
  },
  {
   "cell_type": "code",
   "execution_count": 68,
   "metadata": {
    "collapsed": false
   },
   "outputs": [
    {
     "name": "stdout",
     "output_type": "stream",
     "text": [
      "((1, 'A'), (1, 'A'))\n",
      "((2, 'B'), (2, 'B'))\n",
      "{1: 'A', 2: 'B', 3: 'C'}\n",
      "(1, 'A', (1, 'A'))\n",
      "(2, 'B', (2, 'B'))\n"
     ]
    }
   ],
   "source": [
    "a = [(1,'A'), (2, 'B'), (3, 'C')]\n",
    "b = [(1,'A'), (2, 'B'), (4, 'D')]\n",
    "\n",
    "for i in a:\n",
    "    for j in b:\n",
    "        if i[1] == j[1]:\n",
    "            print (i, j)\n",
    "\n",
    "dic = {}\n",
    "for i in a:\n",
    "    dic[i[0]] = i[1]\n",
    "print dic\n",
    "\n",
    "\n",
    "for j in b:\n",
    "    if j[0] in dic:\n",
    "        print (j[0], dic[j[0]],  j)  "
   ]
  },
  {
   "cell_type": "code",
   "execution_count": null,
   "metadata": {
    "collapsed": true
   },
   "outputs": [],
   "source": []
  }
 ],
 "metadata": {
  "kernelspec": {
   "display_name": "Python 2",
   "language": "python",
   "name": "python2"
  },
  "language_info": {
   "codemirror_mode": {
    "name": "ipython",
    "version": 2
   },
   "file_extension": ".py",
   "mimetype": "text/x-python",
   "name": "python",
   "nbconvert_exporter": "python",
   "pygments_lexer": "ipython2",
   "version": "2.7.10"
  }
 },
 "nbformat": 4,
 "nbformat_minor": 0
}
