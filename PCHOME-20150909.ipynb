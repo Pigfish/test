{
 "cells": [
  {
   "cell_type": "code",
   "execution_count": 2,
   "metadata": {
    "collapsed": false
   },
   "outputs": [
    {
     "name": "stderr",
     "output_type": "stream",
     "text": [
      "C:\\Python27\\lib\\site-packages\\bs4\\__init__.py:166: UserWarning: No parser was explicitly specified, so I'm using the best available HTML parser for this system (\"html5lib\"). This usually isn't a problem, but if you run this code on another system, or in a different virtual environment, it may use a different parser and behave differently.\n",
      "\n",
      "To get rid of this warning, change this:\n",
      "\n",
      " BeautifulSoup([your markup])\n",
      "\n",
      "to this:\n",
      "\n",
      " BeautifulSoup([your markup], \"html5lib\")\n",
      "\n",
      "  markup_type=markup_type))\n"
     ]
    }
   ],
   "source": [
    "import selenium.webdriver as webdriver\n",
    "from bs4 import BeautifulSoup\n",
    "import html5lib\n",
    "\n",
    "driver = webdriver.Firefox()\n",
    "driver.get(\"http://24h.pchome.com.tw/prod/DBAB0G-A44278401\")\n",
    "soup = BeautifulSoup(driver.page_source)\n",
    "driver.close()\n"
   ]
  },
  {
   "cell_type": "code",
   "execution_count": 5,
   "metadata": {
    "collapsed": false,
    "scrolled": true
   },
   "outputs": [
    {
     "name": "stdout",
     "output_type": "stream",
     "text": [
      "本商品詳細介紹★商品特色伯朗三合一奶茶的香醇，有如絲一般的質地，口味柔滑、是一種讓消費者能夠品嘗杯裡的餘韻，品嘗沁入心底的香郁奶茶。★商品規格\n",
      " ●本產品含乳製品。\n",
      " ●沖調方式:將伯朗即溶三合一倒入杯中，以150CC之熱水沖泡，即可品味一杯香醇伯朗即溶三合一。\n",
      " 品名：伯朗奶茶(三合一)\n",
      " 成分：砂糖、奶精粉(葡萄糖漿、氫化棕櫚仁油、牛奶蛋白、乳化劑(脂肪酸甘油酯、單及雙脂肪酸甘油二乙醯酒石酸酯)、檸檬酸鉀、二氧化矽、鹽)、即溶茶粉\n",
      " 咖啡因：39mg/每份(17ｇ)\n",
      " 淨重：17公克X45包\n",
      " 保存期限：18個月\n",
      " 標示於外袋上(西曆年、月、日)\n",
      " 營養標示：每一份量17公克（熱量81大卡、蛋白質0.4公克、脂肪3.1公克、脂肪(飽和脂肪2.7公克、反式脂肪0公克)、碳水化合物12.9公克、鈉22毫克）#\n",
      " 本商品規格\n",
      " 內容物名稱砂糖、奶精粉(葡萄糖漿、氫化棕櫚仁油、牛奶蛋白、乳化劑(脂肪酸甘油酯、單及雙脂肪酸甘油二乙醯酒石酸酯)、檸檬酸鉀、二氧化矽、鹽)、即溶茶粉內容量每袋45小包\n",
      " 咖啡因39mg/每份(17ｇ)原產地(國)台灣保存期限18個月廠商名稱金車股份有限公司平鎮廠廠商電話02-2368-9851廠商地址桃園市平鎮區中興路527號投保產品責任險字號1F870400003203100001食品業者登錄字號A122009933000006\n",
      " ★製造廠商名稱：金車股份有限公司平鎮廠製造\n",
      " ★電話號碼：(02)23689851\n",
      " ★地址：桃園縣平鎮市中興路527號\n"
     ]
    }
   ],
   "source": [
    "#for i in range(0, len(soup.select('#StmtContainer'))):  \n",
    "#    print i, soup.select('#StmtContainer')[i]    #list 裡面有幾個\n",
    "\n",
    "#print soup.select('#IntroContainer')[0].text\n",
    "#print soup.select('#StmtContainer')[0].text\n",
    "\n",
    "string_re = soup.select('#IntroContainer')[0].text + '#' + soup.select('#StmtContainer')[0].text\n",
    "string_re = ' '.join(string_re.split()) #用空白隔開  \n",
    "print string_re\n"
   ]
  },
  {
   "cell_type": "code",
   "execution_count": null,
   "metadata": {
    "collapsed": true
   },
   "outputs": [],
   "source": [
    "def get_value(re_format, string_re, index):\n",
    "    if re.search(re_format,str(string.encode('utf8'))):\n",
    "        return re.search(re_format,str(string.encode('utf8'))).group(index)\n",
    "    else:\n",
    "        return ''"
   ]
  },
  {
   "cell_type": "code",
   "execution_count": null,
   "metadata": {
    "collapsed": true
   },
   "outputs": [],
   "source": [
    "if get_value(\"品名：(.*?) \",string_re, 1) != ''"
   ]
  },
  {
   "cell_type": "code",
   "execution_count": null,
   "metadata": {
    "collapsed": true
   },
   "outputs": [],
   "source": []
  }
 ],
 "metadata": {
  "kernelspec": {
   "display_name": "Python 2",
   "language": "python",
   "name": "python2"
  },
  "language_info": {
   "codemirror_mode": {
    "name": "ipython",
    "version": 2
   },
   "file_extension": ".py",
   "mimetype": "text/x-python",
   "name": "python",
   "nbconvert_exporter": "python",
   "pygments_lexer": "ipython2",
   "version": "2.7.10"
  }
 },
 "nbformat": 4,
 "nbformat_minor": 0
}
