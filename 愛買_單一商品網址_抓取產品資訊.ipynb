{
 "cells": [
  {
   "cell_type": "code",
   "execution_count": 1,
   "metadata": {
    "collapsed": false
   },
   "outputs": [
    {
     "name": "stdout",
     "output_type": "stream",
     "text": [
      "商品名稱\n",
      "《中祥》自然之顏-紫菜蘇打量販包310g\n",
      "品牌\n",
      "中祥\n",
      "商品種類\n",
      "蘇打餅乾\n",
      "保存方法\n",
      "請置放於陰涼處，避免陽光直射。\n",
      "內容物成份\n",
      "成分：麵粉、奶油、棕櫚油、蔬菜(青蔥)、紫菜、鹽、蘇打粉、酵母。\n",
      "熱量\n",
      "540大卡\n",
      "每份營養成份\n",
      "蛋白質9.8公克、脂肪31.2公克、飽和脂肪14.3公克、碳水化合物55公克、鈉417毫克\n",
      "內容量 ( g/ml )\n",
      "310g\n",
      "食品添加物名稱\n",
      "無\n",
      "產地\n",
      "台灣\n",
      "廠商名稱\n",
      "中祥食品\n",
      "廠商電話號碼\n",
      "(03)371-3688\n",
      "廠商地址\n",
      "桃園縣八德市廣福路613號\n",
      "保存期限\n",
      "六個月\n",
      "製造日期／有效日期\n",
      "依商品包裝標示\n"
     ]
    }
   ],
   "source": [
    "import requests\n",
    "from bs4 import BeautifulSoup\n",
    "import html5lib\n",
    "\n",
    "res = requests.get('http://www.gohappy.com.tw/shopping/Browse.do?op=vp&sid=12&cid=29753&pid=123912')\n",
    "soup = BeautifulSoup(res.text,\"html5lib\")\n",
    "\n",
    "for ele in soup.select('table font'):\n",
    "    print ele.text"
   ]
  },
  {
   "cell_type": "code",
   "execution_count": null,
   "metadata": {
    "collapsed": true
   },
   "outputs": [],
   "source": []
  }
 ],
 "metadata": {
  "kernelspec": {
   "display_name": "Python 2",
   "language": "python",
   "name": "python2"
  },
  "language_info": {
   "codemirror_mode": {
    "name": "ipython",
    "version": 2
   },
   "file_extension": ".py",
   "mimetype": "text/x-python",
   "name": "python",
   "nbconvert_exporter": "python",
   "pygments_lexer": "ipython2",
   "version": "2.7.10"
  }
 },
 "nbformat": 4,
 "nbformat_minor": 0
}
