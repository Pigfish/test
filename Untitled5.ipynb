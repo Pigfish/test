{
 "cells": [
  {
   "cell_type": "code",
   "execution_count": 43,
   "metadata": {
    "collapsed": false
   },
   "outputs": [
    {
     "name": "stdout",
     "output_type": "stream",
     "text": [
      "   Hello World This is link1 This is link2  \n"
     ]
    }
   ],
   "source": [
    "from bs4 import BeautifulSoup\n",
    "html_sample = ' \\\n",
    "<html> \\\n",
    "<body> \\\n",
    "<h1 id=\"title\">Hello World</h1> \\\n",
    "<a href=\"#\" class=\"link\">This is link1</a> \\\n",
    "<a href=\"# link2\" class=\"link\">This is link2</a> \\\n",
    "</body> \\\n",
    "</html>'\n",
    "\n",
    "soup = BeautifulSoup(html_sample)\n",
    "# print soup.contents\n",
    "# print soup.contents[1]\n",
    "print soup.text"
   ]
  },
  {
   "cell_type": "code",
   "execution_count": 6,
   "metadata": {
    "collapsed": false
   },
   "outputs": [],
   "source": [
    "# print dir(soup)"
   ]
  },
  {
   "cell_type": "code",
   "execution_count": 44,
   "metadata": {
    "collapsed": false
   },
   "outputs": [
    {
     "name": "stdout",
     "output_type": "stream",
     "text": [
      "<a class=\"link\" href=\"#\">This is link1</a>\n",
      "<class 'bs4.element.Tag'>\n",
      "This is link1\n",
      "#\n",
      "[u'link']\n"
     ]
    }
   ],
   "source": [
    "alink = soup.find('a')\n",
    "print alink\n",
    "print type(alink)\n",
    "#print dir(alink)\n",
    "print alink.text\n",
    "print alink['href']\n",
    "print alink['class']"
   ]
  },
  {
   "cell_type": "code",
   "execution_count": 45,
   "metadata": {
    "collapsed": false,
    "scrolled": true
   },
   "outputs": [
    {
     "name": "stdout",
     "output_type": "stream",
     "text": [
      "[<a class=\"link\" href=\"#\">This is link1</a>, <a class=\"link\" href=\"# link2\">This is link2</a>]\n",
      "<class 'bs4.element.ResultSet'>\n",
      "<a class=\"link\" href=\"#\">This is link1</a>\n",
      "<a class=\"link\" href=\"# link2\">This is link2</a>\n",
      "[u'This is link1']\n",
      "This is link1\n",
      "[u'This is link2']\n",
      "This is link2\n"
     ]
    }
   ],
   "source": [
    "alinks = soup.findAll('a')\n",
    "print alinks\n",
    "print type(alinks)\n",
    "print alinks[0]\n",
    "print alinks[1]\n",
    "for link  in alinks:\n",
    "    print link.contents\n",
    "    print link.text"
   ]
  },
  {
   "cell_type": "code",
   "execution_count": 9,
   "metadata": {
    "collapsed": false
   },
   "outputs": [
    {
     "name": "stdout",
     "output_type": "stream",
     "text": [
      "<h1 id=\"title\">Hello World</h1>\n"
     ]
    }
   ],
   "source": [
    "# <h1 id=\"title\">Hello World</h1> \n",
    "alink = soup.find('h1', {'id':'title'})\n",
    "print alink"
   ]
  },
  {
   "cell_type": "code",
   "execution_count": 46,
   "metadata": {
    "collapsed": false
   },
   "outputs": [
    {
     "name": "stdout",
     "output_type": "stream",
     "text": [
      "[<h1 id=\"title\">Hello World</h1>]\n",
      "<h1 id=\"title\">Hello World</h1>\n"
     ]
    }
   ],
   "source": [
    "alink = soup.select('#title') # id : #\n",
    "print alink\n",
    "print alink[0]"
   ]
  },
  {
   "cell_type": "code",
   "execution_count": 47,
   "metadata": {
    "collapsed": false
   },
   "outputs": [
    {
     "name": "stdout",
     "output_type": "stream",
     "text": [
      "[<a class=\"link\" href=\"#\">This is link1</a>, <a class=\"link\" href=\"# link2\">This is link2</a>]\n"
     ]
    }
   ],
   "source": [
    "#<a href=\"#\" class=\"link\">This is link1</a> \\\n",
    "#<a href=\"# link2\" class=\"link\">This is link2</a> \\\n",
    "\n",
    "classlink = soup.findAll('a', {'class': 'link'})\n",
    "print classlink"
   ]
  },
  {
   "cell_type": "code",
   "execution_count": 48,
   "metadata": {
    "collapsed": false
   },
   "outputs": [
    {
     "name": "stdout",
     "output_type": "stream",
     "text": [
      "[<a class=\"link\" href=\"#\">This is link1</a>, <a class=\"link\" href=\"# link2\">This is link2</a>]\n"
     ]
    }
   ],
   "source": [
    "classlink = soup.select('.link') # class: .\n",
    "print classlink"
   ]
  },
  {
   "cell_type": "code",
   "execution_count": 49,
   "metadata": {
    "collapsed": false
   },
   "outputs": [
    {
     "name": "stdout",
     "output_type": "stream",
     "text": [
      "#\n",
      "[u'link']\n",
      "# link2\n",
      "[u'link']\n"
     ]
    }
   ],
   "source": [
    "#<a href=\"#\" class=\"link\">This is link1</a> \\\n",
    "#<a href=\"# link2\" class=\"link\">This is link2</a> \\\n",
    "alinks = soup.findAll('a', {'href': True})\n",
    "for link in alinks:\n",
    "    print link['href']\n",
    "    print link['class']"
   ]
  },
  {
   "cell_type": "code",
   "execution_count": 50,
   "metadata": {
    "collapsed": false
   },
   "outputs": [
    {
     "name": "stdout",
     "output_type": "stream",
     "text": [
      "#\n",
      "# link2\n"
     ]
    }
   ],
   "source": [
    "alinks = soup.select('a')\n",
    "for link in alinks:\n",
    "    print link['href']"
   ]
  },
  {
   "cell_type": "code",
   "execution_count": 51,
   "metadata": {
    "collapsed": false,
    "scrolled": false
   },
   "outputs": [
    {
     "name": "stdout",
     "output_type": "stream",
     "text": [
      "高鼎英文補習班 台南市新營區綠川北街65號\n",
      "許鎮高中英文補習班 台東縣台東市寧波街6號\n",
      "李捷英文補習班 新北市三重區力行路二段182號2樓\n",
      "杜老師英文補習班 台北市莊敬路300號2樓\n",
      "沈老師英文補習班 台北市昆明街121號2樓\n",
      "琴森英文補習班 台北市內湖路一段309號1樓及地下1樓\n",
      "碧老師英文補習班 台北市北安路630巷25弄9號1樓\n",
      "嘉義市私立黃氏英語國語正音短期職業補習班 嘉義市民族路874號\n",
      "私立Ｅ－Ｚ語文短期補習班 南投縣埔里鎮民生路77號\n",
      "私立立進電腦美語文理短期補習班 桃園市桃園區同安街550號\n",
      "私立立進電腦美語文理短期補習班 桃園市桃園區同安街550號1至3樓\n",
      "私立薇薇安美語補習班 高雄市左營區華夏路979號\n",
      "嘉義市私立學思園文理短期補習班 嘉義市南京路398號3樓\n",
      "臺北市私立北一文理短期補習班 台北市中正區信義路二段271號5樓\n",
      "臺北市私立北一文理短期補習班 台北市中正區南陽街14號\n",
      "台北市私立北一文理短期補習班 台北市大安區信義路三段7號1樓\n",
      "台北市私立北一文理短期補習班 台北市中正區南陽街14號\n",
      "私立嘉耘文理短期補習班 高雄市左營區文恩路26號1之3樓\n",
      "雲林縣私立吳爾夫英文文理短期補習班 雲林縣虎尾鎮大成街301號\n",
      "雲林縣私立世界文理美語短期補習班 雲林縣斗六市雲林路一段180巷9號\n"
     ]
    }
   ],
   "source": [
    "import requests\n",
    "from bs4 import BeautifulSoup\n",
    "for pg in range(0,2):\n",
    "    res = requests.get('https://www.iyp.com.tw/search.php?a_id=&k=%E8%8B%B1%E6%96%87+%E8%A3%9C%E7%BF%92%E7%8F%AD&p={0}'.format(pg))\n",
    "    #print res.encoding\n",
    "    res.encoding = 'utf-8'\n",
    "\n",
    "    soup = BeautifulSoup(res.text)\n",
    "    for ele in soup.select('.general li'):\n",
    "        if len(ele.select('h3')) > 0:\n",
    "            print ele.select('h3')[0].text, ele.select('.view-map')[0]['go-map'].split('&k=')[1]"
   ]
  },
  {
   "cell_type": "code",
   "execution_count": 68,
   "metadata": {
    "collapsed": true
   },
   "outputs": [],
   "source": [
    "\n",
    "import shutil\n",
    "import requests\n",
    "\n",
    "response = requests.get('https://www.iyp.com.tw/ajax.php?func=gImage&val=j0E2n%2FKGz4c8nQfkXn6w0776238V%2By%2F%2FAf2s10rhoUzcRZyk4z29VlJ6drriUSwzUdFUkWqAfbE%3D', stream=True)\n",
    "with open('img.png', 'wb') as out_file:\n",
    "    shutil.copyfileobj(response.raw, out_file)\n",
    "del response"
   ]
  },
  {
   "cell_type": "code",
   "execution_count": 69,
   "metadata": {
    "collapsed": false
   },
   "outputs": [
    {
     "data": {
      "image/png": "[encoded data removed]",
      "text/plain": [
       "<IPython.core.display.Image object>"
      ]
     },
     "execution_count": 69,
     "metadata": {},
     "output_type": "execute_result"
    }
   ],
   "source": [
    "# https://www.iyp.com.tw/search.php?a_id=&k=%E8%8B%B1%E6%96%87+%E8%A3%9C%E7%BF%92%E7%8F%AD&\n",
    "\n",
    "from IPython.core.display import Image\n",
    "Image(\"img.png\")"
   ]
  },
  {
   "cell_type": "code",
   "execution_count": 70,
   "metadata": {
    "collapsed": true
   },
   "outputs": [],
   "source": [
    "# -*- coding: utf-8 -*-\n",
    "import requests\n",
    "payload = { 'method':'search', 'searchMethod':'true', 'searchTarget':'ATM',\n",
    "'orgName':'', 'orgId':'', 'hid_1':'1',\n",
    "'tenderName':'', 'tenderId':'', 'tenderStatus':'4,5,21,29',\n",
    "'tenderWay':'', 'awardAnnounceStartDate':'104/07/24',\n",
    "'awardAnnounceEndDate':'104/07/24', 'radProctrgCate':'3',\n",
    "'proctrgCate':'3', 'tenderRange':'', 'minBudget':'',\n",
    "'maxBudget':'', 'item':'','hid_2':'1',\n",
    "'gottenVendorName':'', 'gottenVendorId':'', 'hid_3':'1',\n",
    "'submitVendorName':'', 'submitVendorId':'', 'location':'',\n",
    "'priorityCate':'', 'isReConstruct':'', 'btnQuery':'查詢' }"
   ]
  },
  {
   "cell_type": "code",
   "execution_count": 71,
   "metadata": {
    "collapsed": false
   },
   "outputs": [],
   "source": [
    "user_post = requests.post(\"http://web.pcc.gov.tw/tps/pss/tender.do?searchMode=common&searchType=advance\", data=payload)\n",
    "response_text = user_post.text.encode('utf8')\n",
    "#print response_text"
   ]
  },
  {
   "cell_type": "code",
   "execution_count": 72,
   "metadata": {
    "collapsed": true
   },
   "outputs": [],
   "source": [
    "#http://web.pcc.gov.tw/tps/pss/tender.do?searchMode=common&searchType=advance&searchTarget=ATM&method=search&isSpdt=&pageIndex=1\n",
    "#http://web.pcc.gov.tw/tps/pss/tender.do?searchMode=common&searchType=advance&searchTarget=ATM&method=search&isSpdt=&pageIndex=2\n",
    "#http://web.pcc.gov.tw/tps/pss/tender.do?searchMode=common&searchType=advance&searchTarget=ATM&method=search&isSpdt=&pageIndex=3"
   ]
  },
  {
   "cell_type": "code",
   "execution_count": 73,
   "metadata": {
    "collapsed": false
   },
   "outputs": [
    {
     "name": "stdout",
     "output_type": "stream",
     "text": [
      "<class 'requests.sessions.Session'>\n"
     ]
    }
   ],
   "source": [
    "rs = requests.session()\n",
    "print type(rs)\n",
    "rs_post =rs.post(\"http://web.pcc.gov.tw/tps/pss/tender.do?searchMode=common&searchType=advance\", data=payload)\n",
    "rs_get =rs.get(\"http://web.pcc.gov.tw/tps/pss/tender.do?searchMode=common&searchType=advance&searchTarget=ATM&method=search&isSpdt=&pageIndex=2\")\n",
    "response = rs_get.text.encode('utf8')\n",
    "#print response"
   ]
  },
  {
   "cell_type": "code",
   "execution_count": 74,
   "metadata": {
    "collapsed": false
   },
   "outputs": [
    {
     "name": "stdout",
     "output_type": "stream",
     "text": [
      "[<span class=\"T11b\" style=\"color: red;\">214</span>]\n",
      "<span class=\"T11b\" style=\"color: red;\">214</span>\n",
      "214\n"
     ]
    }
   ],
   "source": [
    "user_post =requests.post(\"http://web.pcc.gov.tw/tps/pss/tender.do?searchMode=common&searchType=advance\", data=payload)\n",
    "response_text = user_post.text.encode('utf8')\n",
    "soup = BeautifulSoup(response_text)\n",
    "print soup.select('.T11b')\n",
    "print soup.select('.T11b')[0]\n",
    "print soup.select('.T11b')[0].text"
   ]
  },
  {
   "cell_type": "code",
   "execution_count": 75,
   "metadata": {
    "collapsed": false
   },
   "outputs": [
    {
     "name": "stdout",
     "output_type": "stream",
     "text": [
      "214\n"
     ]
    }
   ],
   "source": [
    "rec_number_element = soup.select('.T11b')[0]\n",
    "rec_number = int(rec_number_element.text)\n",
    "print rec_number"
   ]
  },
  {
   "cell_type": "code",
   "execution_count": 76,
   "metadata": {
    "collapsed": false
   },
   "outputs": [
    {
     "name": "stdout",
     "output_type": "stream",
     "text": [
      "3\n"
     ]
    }
   ],
   "source": [
    "import math\n",
    "page_number = int(math.ceil(float(rec_number) / 100))\n",
    "print page_number"
   ]
  },
  {
   "cell_type": "code",
   "execution_count": 77,
   "metadata": {
    "collapsed": false
   },
   "outputs": [
    {
     "name": "stdout",
     "output_type": "stream",
     "text": [
      "http://web.pcc.gov.tw/tps/pss/tender.do?searchMode=common&searchType=advance&searchTarget=ATM&method=search&isSpdt=&pageIndex=1\n",
      "http://web.pcc.gov.tw/tps/pss/tender.do?searchMode=common&searchType=advance&searchTarget=ATM&method=search&isSpdt=&pageIndex=2\n",
      "http://web.pcc.gov.tw/tps/pss/tender.do?searchMode=common&searchType=advance&searchTarget=ATM&method=search&isSpdt=&pageIndex=3\n"
     ]
    }
   ],
   "source": [
    "page_format =\"http://web.pcc.gov.tw/tps/pss/tender.do?searchMode=common&searchType=advance&searchTarget=ATM&method=search&isSpdt=&pageIndex={}\"\n",
    "for page in range(1, page_number + 1):\n",
    "    print page_format.format(page)\n"
   ]
  },
  {
   "cell_type": "code",
   "execution_count": 78,
   "metadata": {
    "collapsed": false
   },
   "outputs": [
    {
     "name": "stdout",
     "output_type": "stream",
     "text": [
      "http://web.pcc.gov.tw/tps/pss/tender.do?searchMode=common&searchType=advance&searchTarget=ATM&method=search&isSpdt=&pageIndex=1\n",
      "http://web.pcc.gov.tw/tps/pss/tender.do?searchMode=common&searchType=advance&searchTarget=ATM&method=search&isSpdt=&pageIndex=2\n",
      "http://web.pcc.gov.tw/tps/pss/tender.do?searchMode=common&searchType=advance&searchTarget=ATM&method=search&isSpdt=&pageIndex=3\n"
     ]
    }
   ],
   "source": [
    "for page in range(1, page_number + 1):\n",
    "    bid_list = rs.get(page_format.format(page))\n",
    "    bid_response = bid_list.text.encode('utf8')\n",
    "    print bid_list.url"
   ]
  },
  {
   "cell_type": "code",
   "execution_count": 79,
   "metadata": {
    "collapsed": false
   },
   "outputs": [],
   "source": [
    "page_format =\"http://web.pcc.gov.tw/tps/pss/tender.do?searchMode=common&searchType=advance&searchTarget=ATM&method=search&isSpdt=&pageIndex=%d\"\n",
    "page = 1\n",
    "bid_list = rs.get(page_format%(page))\n",
    "bid_response = bid_list.text.encode('utf8')\n",
    "bid_soup = BeautifulSoup(bid_response)\n",
    "bid_table = bid_soup.select('#print_area')[0]\n",
    "#print bid_table"
   ]
  },
  {
   "cell_type": "code",
   "execution_count": 80,
   "metadata": {
    "collapsed": false,
    "scrolled": true
   },
   "outputs": [],
   "source": [
    "#print bid_table.select('tr')[1:]"
   ]
  },
  {
   "cell_type": "code",
   "execution_count": 81,
   "metadata": {
    "collapsed": false
   },
   "outputs": [],
   "source": [
    "bid_rows = bid_table.select('tr')[1:-1]\n",
    "#print bid_rows"
   ]
  },
  {
   "cell_type": "code",
   "execution_count": 82,
   "metadata": {
    "collapsed": false
   },
   "outputs": [
    {
     "name": "stdout",
     "output_type": "stream",
     "text": [
      "http://web.pcc.gov.tw/tps/main/pms/tps/atm/atmAwardAction.do?newEdit=false&searchMode=common&method=inquiryForPublic&pkAtmMain=51603189&tenderCaseNo=1040202\n",
      "http://web.pcc.gov.tw/tps/main/pms/tps/atm/atmAwardAction.do?newEdit=false&searchMode=common&method=inquiryForPublic&pkAtmMain=51602392&tenderCaseNo=GUA20150522-1\n",
      "http://web.pcc.gov.tw/tps/main/pms/tps/atm/atmAwardAction.do?newEdit=false&searchMode=common&method=inquiryForPublic&pkAtmMain=51603176&tenderCaseNo=104W038\n",
      "http://web.pcc.gov.tw/tps/main/pms/tps/atm/atmAwardAction.do?newEdit=false&searchMode=common&method=inquiryForPublic&pkAtmMain=51603207&tenderCaseNo=1040071869\n",
      "http://web.pcc.gov.tw/tps/main/pms/tps/atm/atmAwardAction.do?newEdit=false&searchMode=common&method=inquiryForPublic&pkAtmMain=51603035&tenderCaseNo=YG10403\n",
      "http://web.pcc.gov.tw/tps/main/pms/tps/atm/atmAwardAction.do?newEdit=false&searchMode=common&method=inquiryForPublic&pkAtmMain=51604288&tenderCaseNo=104812124A\n",
      "http://web.pcc.gov.tw/tps/main/pms/tps/atm/atmAwardAction.do?newEdit=false&searchMode=common&method=inquiryForPublic&pkAtmMain=51604257&tenderCaseNo=104220130202\n",
      "http://web.pcc.gov.tw/tps/main/pms/tps/atm/atmAwardAction.do?newEdit=false&searchMode=common&method=inquiryForPublic&pkAtmMain=51604227&tenderCaseNo=RAD104211\n",
      "http://web.pcc.gov.tw/tps/main/pms/tps/atm/atmAwardAction.do?newEdit=false&searchMode=common&method=inquiryForPublic&pkAtmMain=51604181&tenderCaseNo=1040716-1\n",
      "http://web.pcc.gov.tw/tps/main/pms/tps/atm/atmAwardAction.do?newEdit=false&searchMode=common&method=inquiryForPublic&pkAtmMain=51604170&tenderCaseNo=1040716-2\n",
      "http://web.pcc.gov.tw/tps/main/pms/tps/atm/atmAwardAction.do?newEdit=false&searchMode=common&method=inquiryForPublic&pkAtmMain=51604146&tenderCaseNo=c1040724\n",
      "http://web.pcc.gov.tw/tps/main/pms/tps/atm/atmAwardAction.do?newEdit=false&searchMode=common&method=inquiryForPublic&pkAtmMain=51604137&tenderCaseNo=1040702\n",
      "http://web.pcc.gov.tw/tps/main/pms/tps/atm/atmAwardAction.do?newEdit=false&searchMode=common&method=inquiryForPublic&pkAtmMain=51604138&tenderCaseNo=1021031\n",
      "http://web.pcc.gov.tw/tps/main/pms/tps/atm/atmAwardAction.do?newEdit=false&searchMode=common&method=inquiryForPublic&pkAtmMain=51604121&tenderCaseNo=HFS-104001\n",
      "http://web.pcc.gov.tw/tps/main/pms/tps/atm/atmAwardAction.do?newEdit=false&searchMode=common&method=inquiryForPublic&pkAtmMain=51604021&tenderCaseNo=1042005\n",
      "http://web.pcc.gov.tw/tps/main/pms/tps/atm/atmAwardAction.do?newEdit=false&searchMode=common&method=inquiryForPublic&pkAtmMain=51604018&tenderCaseNo=10407C075\n",
      "http://web.pcc.gov.tw/tps/main/pms/tps/atm/atmAwardAction.do?newEdit=false&searchMode=common&method=inquiryForPublic&pkAtmMain=51604015&tenderCaseNo=10406C067\n",
      "http://web.pcc.gov.tw/tps/main/pms/tps/atm/atmAwardAction.do?newEdit=false&searchMode=common&method=inquiryForPublic&pkAtmMain=51603832&tenderCaseNo=1040717\n",
      "http://web.pcc.gov.tw/tps/main/pms/tps/atm/atmAwardAction.do?newEdit=false&searchMode=common&method=inquiryForPublic&pkAtmMain=51603795&tenderCaseNo=1040204\n",
      "http://web.pcc.gov.tw/tps/main/pms/tps/atm/atmAwardAction.do?newEdit=false&searchMode=common&method=inquiryForPublic&pkAtmMain=51603755&tenderCaseNo=104041\n",
      "http://web.pcc.gov.tw/tps/main/pms/tps/atm/atmAwardAction.do?newEdit=false&searchMode=common&method=inquiryForPublic&pkAtmMain=51603709&tenderCaseNo=104040\n",
      "http://web.pcc.gov.tw/tps/main/pms/tps/atm/atmAwardAction.do?newEdit=false&searchMode=common&method=inquiryForPublic&pkAtmMain=51603686&tenderCaseNo=104039\n",
      "http://web.pcc.gov.tw/tps/main/pms/tps/atm/atmAwardAction.do?newEdit=false&searchMode=common&method=inquiryForPublic&pkAtmMain=51603685&tenderCaseNo=1040563\n",
      "http://web.pcc.gov.tw/tps/main/pms/tps/atm/atmAwardAction.do?newEdit=false&searchMode=common&method=inquiryForPublic&pkAtmMain=51603651&tenderCaseNo=104-7\n",
      "http://web.pcc.gov.tw/tps/main/pms/tps/atm/atmAwardAction.do?newEdit=false&searchMode=common&method=inquiryForPublic&pkAtmMain=51603587&tenderCaseNo=1040610\n",
      "http://web.pcc.gov.tw/tps/main/pms/tps/atm/atmAwardAction.do?newEdit=false&searchMode=common&method=inquiryForPublic&pkAtmMain=51603450&tenderCaseNo=104110130149\n",
      "http://web.pcc.gov.tw/tps/main/pms/tps/atm/atmAwardAction.do?newEdit=false&searchMode=common&method=inquiryForPublic&pkAtmMain=51603443&tenderCaseNo=10405-2\n",
      "http://web.pcc.gov.tw/tps/main/pms/tps/atm/atmAwardAction.do?newEdit=false&searchMode=common&method=inquiryForPublic&pkAtmMain=51603427&tenderCaseNo=10418\n",
      "http://web.pcc.gov.tw/tps/main/pms/tps/atm/atmAwardAction.do?newEdit=false&searchMode=common&method=inquiryForPublic&pkAtmMain=51603424&tenderCaseNo=LN104007\n",
      "http://web.pcc.gov.tw/tps/main/pms/tps/atm/atmAwardAction.do?newEdit=false&searchMode=common&method=inquiryForPublic&pkAtmMain=51603412&tenderCaseNo=10417\n",
      "http://web.pcc.gov.tw/tps/main/pms/tps/atm/atmAwardAction.do?newEdit=false&searchMode=common&method=inquiryForPublic&pkAtmMain=51603405&tenderCaseNo=10416\n",
      "http://web.pcc.gov.tw/tps/main/pms/tps/atm/atmAwardAction.do?newEdit=false&searchMode=common&method=inquiryForPublic&pkAtmMain=51582175&tenderCaseNo=AASC-104088\n",
      "http://web.pcc.gov.tw/tps/main/pms/tps/atm/atmAwardAction.do?newEdit=false&searchMode=common&method=inquiryForPublic&pkAtmMain=51601391&tenderCaseNo=1040707\n",
      "http://web.pcc.gov.tw/tps/main/pms/tps/atm/atmAwardAction.do?newEdit=false&searchMode=common&method=inquiryForPublic&pkAtmMain=51602341&tenderCaseNo=104060901\n",
      "http://web.pcc.gov.tw/tps/main/pms/tps/atm/atmAwardAction.do?newEdit=false&searchMode=common&method=inquiryForPublic&pkAtmMain=51602350&tenderCaseNo=104072\n",
      "http://web.pcc.gov.tw/tps/main/pms/tps/atm/atmAwardAction.do?newEdit=false&searchMode=common&method=inquiryForPublic&pkAtmMain=51602358&tenderCaseNo=P1040521\n",
      "http://web.pcc.gov.tw/tps/main/pms/tps/atm/atmAwardAction.do?newEdit=false&searchMode=common&method=inquiryForPublic&pkAtmMain=51602359&tenderCaseNo=IMSC-104139\n",
      "http://web.pcc.gov.tw/tps/main/pms/tps/atm/atmAwardAction.do?newEdit=false&searchMode=common&method=inquiryForPublic&pkAtmMain=51602363&tenderCaseNo=K104020\n",
      "http://web.pcc.gov.tw/tps/main/pms/tps/atm/atmAwardAction.do?newEdit=false&searchMode=common&method=inquiryForPublic&pkAtmMain=51602364&tenderCaseNo=104-02-033\n",
      "http://web.pcc.gov.tw/tps/main/pms/tps/atm/atmAwardAction.do?newEdit=false&searchMode=common&method=inquiryForPublic&pkAtmMain=51602370&tenderCaseNo=104-02-037\n",
      "http://web.pcc.gov.tw/tps/main/pms/tps/atm/atmAwardAction.do?newEdit=false&searchMode=common&method=inquiryForPublic&pkAtmMain=51602374&tenderCaseNo=104-02-035\n",
      "http://web.pcc.gov.tw/tps/main/pms/tps/atm/atmAwardAction.do?newEdit=false&searchMode=common&method=inquiryForPublic&pkAtmMain=51602372&tenderCaseNo=104-02-034\n",
      "http://web.pcc.gov.tw/tps/main/pms/tps/atm/atmAwardAction.do?newEdit=false&searchMode=common&method=inquiryForPublic&pkAtmMain=51602375&tenderCaseNo=104-02-036\n",
      "http://web.pcc.gov.tw/tps/main/pms/tps/atm/atmAwardAction.do?newEdit=false&searchMode=common&method=inquiryForPublic&pkAtmMain=51602378&tenderCaseNo=S104074\n",
      "http://web.pcc.gov.tw/tps/main/pms/tps/atm/atmAwardAction.do?newEdit=false&searchMode=common&method=inquiryForPublic&pkAtmMain=51602383&tenderCaseNo=IC103007\n",
      "http://web.pcc.gov.tw/tps/main/pms/tps/atm/atmAwardAction.do?newEdit=false&searchMode=common&method=inquiryForPublic&pkAtmMain=51601955&tenderCaseNo=1040960\n",
      "http://web.pcc.gov.tw/tps/main/pms/tps/atm/atmAwardAction.do?newEdit=false&searchMode=common&method=inquiryForPublic&pkAtmMain=51602407&tenderCaseNo=104070201\n",
      "http://web.pcc.gov.tw/tps/main/pms/tps/atm/atmAwardAction.do?newEdit=false&searchMode=common&method=inquiryForPublic&pkAtmMain=51559072&tenderCaseNo=10439\n",
      "http://web.pcc.gov.tw/tps/main/pms/tps/atm/atmAwardAction.do?newEdit=false&searchMode=common&method=inquiryForPublic&pkAtmMain=51602433&tenderCaseNo=1040522A\n",
      "http://web.pcc.gov.tw/tps/main/pms/tps/atm/atmAwardAction.do?newEdit=false&searchMode=common&method=inquiryForPublic&pkAtmMain=51602435&tenderCaseNo=1040623G\n",
      "http://web.pcc.gov.tw/tps/main/pms/tps/atm/atmAwardAction.do?newEdit=false&searchMode=common&method=inquiryForPublic&pkAtmMain=51602453&tenderCaseNo=S104014\n",
      "http://web.pcc.gov.tw/tps/main/pms/tps/atm/atmAwardAction.do?newEdit=false&searchMode=common&method=inquiryForPublic&pkAtmMain=51602454&tenderCaseNo=NPM104077\n",
      "http://web.pcc.gov.tw/tps/main/pms/tps/atm/atmAwardAction.do?newEdit=false&searchMode=common&method=inquiryForPublic&pkAtmMain=51602456&tenderCaseNo=1040624C\n",
      "http://web.pcc.gov.tw/tps/main/pms/tps/atm/atmAwardAction.do?newEdit=false&searchMode=common&method=inquiryForPublic&pkAtmMain=51602468&tenderCaseNo=1040708\n",
      "http://web.pcc.gov.tw/tps/main/pms/tps/atm/atmAwardAction.do?newEdit=false&searchMode=common&method=inquiryForPublic&pkAtmMain=51602470&tenderCaseNo=104-A-014\n",
      "http://web.pcc.gov.tw/tps/main/pms/tps/atm/atmAwardAction.do?newEdit=false&searchMode=common&method=inquiryForPublic&pkAtmMain=51602471&tenderCaseNo=10406B\n",
      "http://web.pcc.gov.tw/tps/main/pms/tps/atm/atmAwardAction.do?newEdit=false&searchMode=common&method=inquiryForPublic&pkAtmMain=51602472&tenderCaseNo=104062505\n",
      "http://web.pcc.gov.tw/tps/main/pms/tps/atm/atmAwardAction.do?newEdit=false&searchMode=common&method=inquiryForPublic&pkAtmMain=51602482&tenderCaseNo=No104-0010\n",
      "http://web.pcc.gov.tw/tps/main/pms/tps/atm/atmAwardAction.do?newEdit=false&searchMode=common&method=inquiryForPublic&pkAtmMain=51602492&tenderCaseNo=F104-036\n",
      "http://web.pcc.gov.tw/tps/main/pms/tps/atm/atmAwardAction.do?newEdit=false&searchMode=common&method=inquiryForPublic&pkAtmMain=51602495&tenderCaseNo=104-096\n",
      "http://web.pcc.gov.tw/tps/main/pms/tps/atm/atmAwardAction.do?newEdit=false&searchMode=common&method=inquiryForPublic&pkAtmMain=51602501&tenderCaseNo=NPM104069\n",
      "http://web.pcc.gov.tw/tps/main/pms/tps/atm/atmAwardAction.do?newEdit=false&searchMode=common&method=inquiryForPublic&pkAtmMain=51602508&tenderCaseNo=MOEAWRA1040061\n",
      "http://web.pcc.gov.tw/tps/main/pms/tps/atm/atmAwardAction.do?newEdit=false&searchMode=common&method=inquiryForPublic&pkAtmMain=51602531&tenderCaseNo=104A011\n",
      "http://web.pcc.gov.tw/tps/main/pms/tps/atm/atmAwardAction.do?newEdit=false&searchMode=common&method=inquiryForPublic&pkAtmMain=51602532&tenderCaseNo=104020\n",
      "http://web.pcc.gov.tw/tps/main/pms/tps/atm/atmAwardAction.do?newEdit=false&searchMode=common&method=inquiryForPublic&pkAtmMain=51602564&tenderCaseNo=104024\n",
      "http://web.pcc.gov.tw/tps/main/pms/tps/atm/atmAwardAction.do?newEdit=false&searchMode=common&method=inquiryForPublic&pkAtmMain=51602565&tenderCaseNo=1040703\n",
      "http://web.pcc.gov.tw/tps/main/pms/tps/atm/atmAwardAction.do?newEdit=false&searchMode=common&method=inquiryForPublic&pkAtmMain=51602570&tenderCaseNo=104-006\n",
      "http://web.pcc.gov.tw/tps/main/pms/tps/atm/atmAwardAction.do?newEdit=false&searchMode=common&method=inquiryForPublic&pkAtmMain=51602578&tenderCaseNo=D104033\n",
      "http://web.pcc.gov.tw/tps/main/pms/tps/atm/atmAwardAction.do?newEdit=false&searchMode=common&method=inquiryForPublic&pkAtmMain=51602589&tenderCaseNo=1040529\n",
      "http://web.pcc.gov.tw/tps/main/pms/tps/atm/atmAwardAction.do?newEdit=false&searchMode=common&method=inquiryForPublic&pkAtmMain=51602590&tenderCaseNo=TC104C094\n",
      "http://web.pcc.gov.tw/tps/main/pms/tps/atm/atmAwardAction.do?newEdit=false&searchMode=common&method=inquiryForPublic&pkAtmMain=51482308&tenderCaseNo=104-C-Z-004\n",
      "http://web.pcc.gov.tw/tps/main/pms/tps/atm/atmAwardAction.do?newEdit=false&searchMode=common&method=inquiryForPublic&pkAtmMain=51602594&tenderCaseNo=1040005214\n",
      "http://web.pcc.gov.tw/tps/main/pms/tps/atm/atmAwardAction.do?newEdit=false&searchMode=common&method=inquiryForPublic&pkAtmMain=51482312&tenderCaseNo=104-C-Z-002\n",
      "http://web.pcc.gov.tw/tps/main/pms/tps/atm/atmAwardAction.do?newEdit=false&searchMode=common&method=inquiryForPublic&pkAtmMain=51602597&tenderCaseNo=J104-040\n",
      "http://web.pcc.gov.tw/tps/main/pms/tps/atm/atmAwardAction.do?newEdit=false&searchMode=common&method=inquiryForPublic&pkAtmMain=51482311&tenderCaseNo=104-C-Z-003\n",
      "http://web.pcc.gov.tw/tps/main/pms/tps/atm/atmAwardAction.do?newEdit=false&searchMode=common&method=inquiryForPublic&pkAtmMain=51602601&tenderCaseNo=1040702001\n",
      "http://web.pcc.gov.tw/tps/main/pms/tps/atm/atmAwardAction.do?newEdit=false&searchMode=common&method=inquiryForPublic&pkAtmMain=51602603&tenderCaseNo=104A143\n",
      "http://web.pcc.gov.tw/tps/main/pms/tps/atm/atmAwardAction.do?newEdit=false&searchMode=common&method=inquiryForPublic&pkAtmMain=51520991&tenderCaseNo=104-C-Z-007\n",
      "http://web.pcc.gov.tw/tps/main/pms/tps/atm/atmAwardAction.do?newEdit=false&searchMode=common&method=inquiryForPublic&pkAtmMain=51520995&tenderCaseNo=104-C-Z-008\n",
      "http://web.pcc.gov.tw/tps/main/pms/tps/atm/atmAwardAction.do?newEdit=false&searchMode=common&method=inquiryForPublic&pkAtmMain=51602615&tenderCaseNo=1040702B1\n",
      "http://web.pcc.gov.tw/tps/main/pms/tps/atm/atmAwardAction.do?newEdit=false&searchMode=common&method=inquiryForPublic&pkAtmMain=51602617&tenderCaseNo=DEA0461004\n",
      "http://web.pcc.gov.tw/tps/main/pms/tps/atm/atmAwardAction.do?newEdit=false&searchMode=common&method=inquiryForPublic&pkAtmMain=51602620&tenderCaseNo=KMA-L-10405\n",
      "http://web.pcc.gov.tw/tps/main/pms/tps/atm/atmAwardAction.do?newEdit=false&searchMode=common&method=inquiryForPublic&pkAtmMain=51602629&tenderCaseNo=104-9\n",
      "http://web.pcc.gov.tw/tps/main/pms/tps/atm/atmAwardAction.do?newEdit=false&searchMode=common&method=inquiryForPublic&pkAtmMain=51602645&tenderCaseNo=104009\n",
      "http://web.pcc.gov.tw/tps/main/pms/tps/atm/atmAwardAction.do?newEdit=false&searchMode=common&method=inquiryForPublic&pkAtmMain=51602652&tenderCaseNo=1040720\n",
      "http://web.pcc.gov.tw/tps/main/pms/tps/atm/atmAwardAction.do?newEdit=false&searchMode=common&method=inquiryForPublic&pkAtmMain=51602662&tenderCaseNo=3410400166-S04060\n",
      "http://web.pcc.gov.tw/tps/main/pms/tps/atm/atmAwardAction.do?newEdit=false&searchMode=common&method=inquiryForPublic&pkAtmMain=51602670&tenderCaseNo=10400004\n",
      "http://web.pcc.gov.tw/tps/main/pms/tps/atm/atmAwardAction.do?newEdit=false&searchMode=common&method=inquiryForPublic&pkAtmMain=51602674&tenderCaseNo=104-0022205-052-2-1\n",
      "http://web.pcc.gov.tw/tps/main/pms/tps/atm/atmAwardAction.do?newEdit=false&searchMode=common&method=inquiryForPublic&pkAtmMain=51602677&tenderCaseNo=104A102\n",
      "http://web.pcc.gov.tw/tps/main/pms/tps/atm/atmAwardAction.do?newEdit=false&searchMode=common&method=inquiryForPublic&pkAtmMain=51602678&tenderCaseNo=1040701\n",
      "http://web.pcc.gov.tw/tps/main/pms/tps/atm/atmAwardAction.do?newEdit=false&searchMode=common&method=inquiryForPublic&pkAtmMain=51602681&tenderCaseNo=MDK0470002\n",
      "http://web.pcc.gov.tw/tps/main/pms/tps/atm/atmAwardAction.do?newEdit=false&searchMode=common&method=inquiryForPublic&pkAtmMain=51602691&tenderCaseNo=104AP03\n",
      "http://web.pcc.gov.tw/tps/main/pms/tps/atm/atmAwardAction.do?newEdit=false&searchMode=common&method=inquiryForPublic&pkAtmMain=51602702&tenderCaseNo=104-07-03\n",
      "http://web.pcc.gov.tw/tps/main/pms/tps/atm/atmAwardAction.do?newEdit=false&searchMode=common&method=inquiryForPublic&pkAtmMain=51602706&tenderCaseNo=104TFDA-MD-032\n",
      "http://web.pcc.gov.tw/tps/main/pms/tps/atm/atmAwardAction.do?newEdit=false&searchMode=common&method=inquiryForPublic&pkAtmMain=51602714&tenderCaseNo=M04C5346\n",
      "http://web.pcc.gov.tw/tps/main/pms/tps/atm/atmAwardAction.do?newEdit=false&searchMode=common&method=inquiryForPublic&pkAtmMain=51602720&tenderCaseNo=104072306\n",
      "http://web.pcc.gov.tw/tps/main/pms/tps/atm/atmAwardAction.do?newEdit=false&searchMode=common&method=inquiryForPublic&pkAtmMain=51602725&tenderCaseNo=EEA0423002\n",
      "http://web.pcc.gov.tw/tps/main/pms/tps/atm/atmAwardAction.do?newEdit=false&searchMode=common&method=inquiryForPublic&pkAtmMain=51602740&tenderCaseNo=104-0022204-078-2-4\n",
      "http://web.pcc.gov.tw/tps/main/pms/tps/atm/atmAwardAction.do?newEdit=false&searchMode=common&method=inquiryForPublic&pkAtmMain=51602744&tenderCaseNo=DDA0442003\n",
      "http://web.pcc.gov.tw/tps/main/pms/tps/atm/atmAwardAction.do?newEdit=false&searchMode=common&method=inquiryForPublic&pkAtmMain=51602748&tenderCaseNo=1070400010\n"
     ]
    }
   ],
   "source": [
    "for row in bid_rows:\n",
    "    #print row.select('a')[0]['href']\n",
    "    print \"http://web.pcc.gov.tw/tps\" +row.select('a')[0]['href'][2:]"
   ]
  },
  {
   "cell_type": "code",
   "execution_count": 83,
   "metadata": {
    "collapsed": false
   },
   "outputs": [],
   "source": [
    "cookie = 'Cookie:OvertureRecord=OR=a3d3c3Y9MjJ6enoxanJyam9oMWZycDF3ejI=&OQ=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; SEID_G=adaabf67-0d27-4259-8222-8b9a7cf435fa; TRID_G=acbb8ae9-98a9-4aae-8a7b-5c52067bc351; __ltmwga=utmcsr=google|utmccn=normal_buy|utmcmd=cpc|utmcct=Buy_buyhouse2; __dmwsc=20141103q06ks0000u0000,cwh50fet2ea20yasmldsep0d,dm00245; _dc_gtm_UA-35108030-1=1; _gat_UA-35108030-1=1; WMX_Channel=,1,; yawbewkcehc=0; _ga=GA1.4.797279976.1438235587; __asc=50c1b7d114edd856a353805a2b8; __auc=50c1b7d114edd856a353805a2b8; sto-id-%3Fv30%3FGroup-buy.yungching.com.tw%3A80=EIABBOKM'"
   ]
  },
  {
   "cell_type": "code",
   "execution_count": 84,
   "metadata": {
    "collapsed": false
   },
   "outputs": [
    {
     "name": "stdout",
     "output_type": "stream",
     "text": [
      "121.603565\n",
      "25.073078\n"
     ]
    }
   ],
   "source": [
    "import requests\n",
    "from bs4 import BeautifulSoup\n",
    "header = {'Cookie':cookie}\n",
    "res = requests.get('http://buy.yungching.com.tw/house/1412136', headers = header)\n",
    "soup = BeautifulSoup(res.text)\n",
    "print soup.select('input #hiddenCenterLng')[0]['value']\n",
    "print soup.select('input #hiddenCenterLat')[0]['value']"
   ]
  },
  {
   "cell_type": "code",
   "execution_count": 85,
   "metadata": {
    "collapsed": true
   },
   "outputs": [],
   "source": [
    "#http://www.agoda.com/zh-tw/karuizawa-prince-hotel/hotel/nagano-jp.html?asq=XqlQ7bJ0pUN0G2iz%2fnzAiKwIKXLAeNvWtpQWDcTtyrt%2fG6oM%2bL0%2btlSipMZrW3OBjN8EiRy9%2bvkHleBkbbQo4ykDdO7kuPH5GA57mOUbrusR%2fogolsxvFcX8itXtKOeFfgl%2fndLiT7ibguvYS9WzAWtqUjC89Zeq3dp2B9Y%2fyugmtTSEoaWnzobkDgTwtUHX&cid=1618671&tag=b260f18c-071f-4d88-9ce3-254d59e297b2&tyra=1%7c1&searchrequestid=117a99b2-100a-4c0c-84d5-17fd54f0d925&pingnumber=1"
   ]
  },
  {
   "cell_type": "code",
   "execution_count": 86,
   "metadata": {
    "collapsed": true
   },
   "outputs": [],
   "source": [
    "import requests\n",
    "from bs4 import BeautifulSoup\n",
    "#header = {'Cookie':cookie}\n",
    "res = requests.get('http://www.agoda.com/zh-tw/karuizawa-prince-hotel/hotel/nagano-jp.html?asq=XqlQ7bJ0pUN0G2iz%2fnzAiKwIKXLAeNvWtpQWDcTtyrt%2fG6oM%2bL0%2btlSipMZrW3OBjN8EiRy9%2bvkHleBkbbQo4ykDdO7kuPH5GA57mOUbrusR%2fogolsxvFcX8itXtKOeFfgl%2fndLiT7ibguvYS9WzAWtqUjC89Zeq3dp2B9Y%2fyugmtTSEoaWnzobkDgTwtUHX&cid=1618671&tag=b260f18c-071f-4d88-9ce3-254d59e297b2&tyra=1%7c1&searchrequestid=117a99b2-100a-4c0c-84d5-17fd54f0d925&pingnumber=1#')\n",
    "soup = BeautifulSoup(res.text)\n",
    "#print res.text\n",
    "#print soup.select('input #hiddenCenterLng')[0]['value']\n",
    "#print soup.select('input #hiddenCenterLat')[0]['value']"
   ]
  },
  {
   "cell_type": "code",
   "execution_count": 94,
   "metadata": {
    "collapsed": true
   },
   "outputs": [],
   "source": [
    "bid_file = open(\"bid_list.txt\", 'w')\n",
    "page_format =\"http://web.pcc.gov.tw/tps/pss/tender.do?searchMode=common&searchType=advance&searchTarget=ATM&method=search&isSpdt=&pageIndex=%d\"\n",
    "for page in range(1, page_number + 1):\n",
    "    bid_list = rs.get(page_format%(page))\n",
    "    bid_response = bid_list.text.encode('utf8')\n",
    "    bid_soup = BeautifulSoup(bid_response)\n",
    "    bid_table = bid_soup.select(\"#print_area\") [0]\n",
    "    bid_rows = bid_table.select('tr')[1:-1]\n",
    "    for bid_row in bid_rows:\n",
    "        link_href = \"http://web.pcc.gov.tw/tps\" +bid_row.select('a')[0]['href'][2:]\n",
    "        bid_file.write(link_href + \"\\n\")\n",
    "bid_file.close()"
   ]
  },
  {
   "cell_type": "code",
   "execution_count": 88,
   "metadata": {
    "collapsed": false
   },
   "outputs": [
    {
     "name": "stdout",
     "output_type": "stream",
     "text": [
      "214\n"
     ]
    }
   ],
   "source": [
    "line_num = 0\n",
    "f = open(\"bid_list.txt\", \"r\")\n",
    "for line in f.readlines():\n",
    "    line_num = line_num + 1\n",
    "print line_num\n",
    "f.close()\n",
    "\n",
    "line_number =  len([line for line in open('bid_list.txt')])"
   ]
  },
  {
   "cell_type": "code",
   "execution_count": 89,
   "metadata": {
    "collapsed": false
   },
   "outputs": [
    {
     "name": "stdout",
     "output_type": "stream",
     "text": [
      "214\n",
      "yes, they are equal\n"
     ]
    }
   ],
   "source": [
    "print rec_number\n",
    "if rec_number == line_number:\n",
    "    print \"yes, they are equal\"\n",
    "    \n",
    "assert rec_number == line_number"
   ]
  },
  {
   "cell_type": "code",
   "execution_count": 90,
   "metadata": {
    "collapsed": false
   },
   "outputs": [
    {
     "name": "stdout",
     "output_type": "stream",
     "text": [
      "1\n",
      "2\n",
      "3\n",
      "4\n",
      "5\n",
      "6\n",
      "7\n",
      "8\n",
      "9\n",
      "10 \n"
     ]
    }
   ],
   "source": [
    "#assert rec_number == 123\n",
    "\n",
    "i = 0\n",
    "while True:\n",
    "    i += 1\n",
    "    try:\n",
    "        assert i < 10\n",
    "    except AssertionError as e:\n",
    "        print i, e\n",
    "        break\n",
    "    print i"
   ]
  },
  {
   "cell_type": "code",
   "execution_count": 91,
   "metadata": {
    "collapsed": true
   },
   "outputs": [],
   "source": [
    "import requests\n",
    "res = requests.get('http://web.pcc.gov.tw/tps/main/pms/tps/atm/atmAwardAction.do?newEdit=false&searchMode=common&method=inquiryForPublic&pkAtmMain=51603189&tenderCaseNo=1040202')\n",
    "#print res.text"
   ]
  },
  {
   "cell_type": "code",
   "execution_count": 92,
   "metadata": {
    "collapsed": true
   },
   "outputs": [],
   "source": [
    "from bs4 import BeautifulSoup\n",
    "soup = BeautifulSoup(res.text)\n",
    "#print soup.select('#printArea')[0]"
   ]
  },
  {
   "cell_type": "code",
   "execution_count": 93,
   "metadata": {
    "collapsed": true
   },
   "outputs": [],
   "source": [
    "from bs4 import BeautifulSoup\n",
    "f = open('bid_detail.txt', 'w')\n",
    "soup = BeautifulSoup(res.text)\n",
    "#f.write(soup.select('#printArea')[0])\n",
    "#print type(soup.select('#printArea')[0])\n",
    "detail = soup.select('#printArea')[0].prettify('utf-8')\n",
    "f.write(detail)\n",
    "f.close()"
   ]
  },
  {
   "cell_type": "code",
   "execution_count": 105,
   "metadata": {
    "collapsed": false
   },
   "outputs": [
    {
     "name": "stdout",
     "output_type": "stream",
     "text": [
      "三立財經CH88在哪裡"
     ]
    },
    {
     "ename": "IndexError",
     "evalue": "list index out of range",
     "output_type": "error",
     "traceback": [
      "\u001b[1;31m---------------------------------------------------------------------------\u001b[0m",
      "\u001b[1;31mIndexError\u001b[0m                                Traceback (most recent call last)",
      "\u001b[1;32m<ipython-input-105-eecd8e7fb29e>\u001b[0m in \u001b[0;36m<module>\u001b[1;34m()\u001b[0m\n\u001b[0;32m      5\u001b[0m \u001b[1;33m\u001b[0m\u001b[0m\n\u001b[0;32m      6\u001b[0m \u001b[1;32mfor\u001b[0m \u001b[0mele\u001b[0m \u001b[1;32min\u001b[0m \u001b[0msoup\u001b[0m\u001b[1;33m.\u001b[0m\u001b[0mselect\u001b[0m\u001b[1;33m(\u001b[0m\u001b[1;34m'li'\u001b[0m\u001b[1;33m)\u001b[0m\u001b[1;33m:\u001b[0m\u001b[1;33m\u001b[0m\u001b[0m\n\u001b[1;32m----> 7\u001b[1;33m     \u001b[1;32mprint\u001b[0m \u001b[0mele\u001b[0m\u001b[1;33m.\u001b[0m\u001b[0mselect\u001b[0m\u001b[1;33m(\u001b[0m\u001b[1;34m'.gt'\u001b[0m\u001b[1;33m)\u001b[0m\u001b[1;33m[\u001b[0m\u001b[1;36m0\u001b[0m\u001b[1;33m]\u001b[0m\u001b[1;33m.\u001b[0m\u001b[0mtext\u001b[0m\u001b[1;33m,\u001b[0m \u001b[0mele\u001b[0m\u001b[1;33m.\u001b[0m\u001b[0mselect\u001b[0m\u001b[1;33m(\u001b[0m\u001b[1;34m'.tab_list_time'\u001b[0m\u001b[1;33m)\u001b[0m\u001b[1;33m[\u001b[0m\u001b[1;36m0\u001b[0m\u001b[1;33m]\u001b[0m\u001b[1;33m.\u001b[0m\u001b[0mtext\u001b[0m\u001b[1;33m\u001b[0m\u001b[0m\n\u001b[0m",
      "\u001b[1;31mIndexError\u001b[0m: list index out of range"
     ]
    }
   ],
   "source": [
    "import requests\n",
    "from bs4 import BeautifulSoup\n",
    "res = requests.get('http://www.setn.com/ViewAll.aspx?PageGroupID=0')\n",
    "soup = BeautifulSoup(res.text)\n",
    "\n",
    "for ele in soup.select('li'):\n",
    "    print ele.select('.gt')[0].text, ele.select('.tab_list_time')[0].text"
   ]
  },
  {
   "cell_type": "code",
   "execution_count": 141,
   "metadata": {
    "collapsed": false
   },
   "outputs": [
    {
     "name": "stdout",
     "output_type": "stream",
     "text": [
      " 中油公司力拚多角化業務 衝出藍海新商機 104-7-29\n",
      "國內汽、柴油價格明(27)日起分別調降0.2... 104-7-26\n",
      "能源教育向下扎根 中油綠巨龍創造夏令營開跑 104-7-20\n"
     ]
    }
   ],
   "source": [
    "import requests\n",
    "from bs4 import BeautifulSoup\n",
    "res = requests.get('http://new.cpc.com.tw/Home/')\n",
    "soup = BeautifulSoup(res.text)\n",
    "for ele in soup.select('div .nText'):\n",
    "    print ele.select('a')[0].text, ele.select('span')[0].text"
   ]
  },
  {
   "cell_type": "code",
   "execution_count": 101,
   "metadata": {
    "collapsed": false
   },
   "outputs": [
    {
     "name": "stdout",
     "output_type": "stream",
     "text": [
      "蔣智賢今登錄一軍　隨時上場代打(0)\n",
      "中共歷代閱兵回顧　老照片有騎馬校閱(0)\n",
      "聯手中嘉　徐旭東：進軍智慧家庭市場(172)\n",
      "捷報！台將林詩嘉射進世錦賽金牌戰並獲奧運...(0)\n",
      "八仙塵爆傷者「我出院了，你們要加油！」(181)\n",
      "尼泊爾大雨引發土石流　已釀24死(27)\n",
      "匍匐前進櫃台偷錢　笨賊監視器下現形(12)\n",
      "​香港判女「胸部襲警」　成網友笑談(168)\n",
      "男騎車載母洋蔥照　《蘋果》神到了(224)\n",
      "腸胃問題頻繁又檢查無果　壓力恐是元兇(4)\n",
      "未過30都可以　人妻辣媽圓空姐夢(194)\n",
      "好噁！玉米罐頭流出黑黏液(70)\n",
      "天熱加劇異位性皮膚炎     解決之道看...(0)\n",
      "女秀簡訊截圖　鄉民轟：奇葩(4937)\n",
      "林冠華燒炭輕生　檢方完成相驗(1658)\n",
      "陳偉殷後天打老虎　提防右打重砲(192)\n",
      "宋美齡紐約故居開價3億　華人土豪搶看屋(1966)\n",
      "【更新】日月光Q2獲利不如預期　(1077)\n",
      "放利多股價跌　TPK淪宏達電第2？(723)\n",
      "【MLB】730精采好球  紅人1:0紅...(186)\n",
      "【新新聞】反課綱學生親身談行動的心路歷程(459)\n",
      "各國女子酒醉模樣　這妹子演給你看(1264)\n",
      "學生嗆吳思華爆衝突　王奕凱：肉搜黑衣男(2655)\n",
      "鎖門鬧翻剌死弟　哥呆滯：全忘了(1374)\n",
      "紅燈停不了　砂石車撞花店(837)\n",
      "【更新】大學生酒駕肇事　友人頂替被識破(2959)\n",
      "【更新】與毛揆開會　王應傑批沒效率先走人(4380)\n",
      "【更新】台、日大學冠軍對決　明道短兵缺將...(2958)\n",
      "【更新】姊弟戀逃逸外勞　栽在警察夫妻檔(4694)\n",
      "忘了看江蕙演唱會　賈永婕崩潰被酸(5322)\n"
     ]
    }
   ],
   "source": [
    "import requests\n",
    "from bs4 import BeautifulSoup\n",
    "import re\n",
    "dic = {}\n",
    "res = requests.get('http://www.appledaily.com.tw/realtimenews/section/new/1')\n",
    "soup = BeautifulSoup(res.text)\n",
    "for ele in soup.select('.rtddt'):\n",
    "    if len(ele.select('font')) > 0:\n",
    "        dic[ele.select('font')[0].text] = ele.select('a')[0]['href']\n",
    "        print ele.select('font')[0].text"
   ]
  },
  {
   "cell_type": "code",
   "execution_count": null,
   "metadata": {
    "collapsed": true
   },
   "outputs": [],
   "source": []
  },
  {
   "cell_type": "code",
   "execution_count": 108,
   "metadata": {
    "collapsed": false
   },
   "outputs": [
    {
     "name": "stdout",
     "output_type": "stream",
     "text": [
      "南投3位新校長 聯合布達被稱山中傳奇 2015-07-30 17:52\n",
      "中職》蔣智賢今升一軍 隨時可能代打 2015-07-30 17:48\n",
      "四顆渦輪強力壓榨！BMW 開發 4 渦輪柴油引擎 2015-07-30 17:48\n",
      "MLB》達比修有又當爸！ 與日本角力女王生下1子 2015-07-30 17:44\n",
      "足球》世界盃資格賽中越戰門票 8月8日開賣 2015-07-30 17:44\n",
      "清大專利申請 去年全台第1、全球百大11名 2015-07-30 17:44\n",
      "挑戰國際技能賽 台灣小學習與壓力共存 2015-07-30 17:43\n",
      "伊甸、愛加倍成立輔具站 供老人借用 2015-07-30 17:41\n",
      "家長拿手機拍照 3月大嬰兒竟被「閃瞎」？ 2015-07-30 17:39\n",
      "反核遭拒絕入境 獲判國賠12萬 2015-07-30 17:38\n",
      "你到鹿草小7買過百吉棒棒冰嗎？快對發票… 2015-07-30 17:38\n",
      "林冠華今生日 家屬原本安排要慶生 2015-07-30 17:33\n",
      "電扶梯捲人意外頻傳 中國網友出奇招自保 2015-07-30 17:33\n",
      "林冠華LINE對話：有方法停止黑箱課綱 讓媒體瘋狂燃燒 2015-07-30 17:31\n",
      "太妍穿了希澈的T恤  粉絲怒吼「脫掉」 2015-07-30 17:31\n",
      "任性女孩兒逃家 意外揭露叔10年通緝內幕 2015-07-30 17:31\n",
      "信義計畫區商辦新高 整層每坪152萬元    2015-07-30 17:31\n",
      "疑遭罵「你殺人唷！」 婦人怒告攤販 2015-07-30 17:29\n",
      "三隻小豬旋風再起 陳亭妃捐出絕版小豬 2015-07-30 17:29\n",
      "閎暉  上半年每股獲利0.47元 2015-07-30 17:28\n",
      "遊戲玩家有福了！電玩交響樂團轟蛋 2015-07-30 17:28\n",
      "大手拉小手！性感超模米蘭達與寶貝兒子的甜蜜時光 2015-07-30 17:28\n",
      "台中藍帶海洋觀光季 免費旅遊專車開放報名 2015-07-30 17:25\n",
      "《非禮勿弒》結局反轉  獲「爛番茄」100%好評 2015-07-30 17:23\n"
     ]
    }
   ],
   "source": [
    "import requests\n",
    "from bs4 import BeautifulSoup\n",
    "res = requests.get('http://news.ltn.com.tw/list/BreakingNews')\n",
    "soup = BeautifulSoup(res.text)\n",
    "for ele in soup.select('.lipic'):\n",
    "    print ele.select('.picword')[0].text, ele.select('span')[0].text\n"
   ]
  },
  {
   "cell_type": "code",
   "execution_count": 136,
   "metadata": {
    "collapsed": false
   },
   "outputs": [
    {
     "name": "stdout",
     "output_type": "stream",
     "text": [
      "獨／林冠華LINE：要對得起自己\n",
      "李佳穎跌破頭縫六針　放鳥唐禹哲約會\n",
      "臉書最新駭客手法：「奪舍」！\n",
      "專家來了！杜正勝2分鐘破解黑箱課綱\n",
      "謝承均超嗨抱嬌妻韓瑜　孫協志生氣啦\n",
      "韓瑜李若玹抱抱哭　小三也愛上正宮？\n",
      "台商不挺柱？　皇冠總監籲把錢省下來\n",
      "林冠華輕生　國民黨強烈譴責蔡英文\n",
      "林冠華輕生　林騰蛟：與反課綱無關\n",
      "太正啦～男神的姊妹也美到可以出道了\n",
      "全台失業率最高的縣市　竟在這裡！\n",
      "精神分裂也要看！《世間情》5大之最\n",
      "張奇文執意移送記者錄音檔曝光！\n",
      "《甘味》收視第一！曾莞婷電翻粉絲了\n",
      "哪來這麼多原則？演藝圈小咖竟挑通告\n",
      "新北爆都更弊案！前副市長涉賄遭約談\n",
      "洪秀柱定調「都是蔡英文的錯」\n",
      "馬坐牢逃不了？特偵組曝光神秘存摺\n",
      "批小英如毛澤東　學者：根本醜化學生\n",
      "洪秀柱：沒有我出面，國民黨會很淒慘\n",
      "(07/30 14:53)\n",
      "(07/29 19:48)\n",
      "(07/29 20:53)\n",
      "(07/30 08:45)\n",
      "(07/28 20:10)\n",
      "(07/29 14:39)\n",
      "(07/30 07:58)\n",
      "(07/30 15:37)\n",
      "(07/30 13:25)\n",
      "(06/15 19:24)\n",
      "(07/30 13:14)\n",
      "(07/29 15:33)\n",
      "(07/28 15:34)\n",
      "(07/29 19:47)\n",
      "(07/29 21:11)\n",
      "(07/29 16:00)\n",
      "(07/29 16:57)\n",
      "(06/20 12:39)\n",
      "(07/29 20:51)\n",
      "(07/29 20:27)\n"
     ]
    }
   ],
   "source": [
    "import requests\n",
    "from bs4 import BeautifulSoup\n",
    "res = requests.get('http://www.setn.com/ViewAll.aspx?PageGroupID=0')\n",
    "soup = BeautifulSoup(res.text)\n",
    "for ele in soup.select('.box'):\n",
    "    for el in ele.findAll('a',{'class':'gt'}):\n",
    "        print el.text\n",
    "    for e in ele.findAll('span',{'class':'tab_list_time'}):\n",
    "        print e.text\n",
    "    #, ele.select('.tab_list_time')[0].text"
   ]
  },
  {
   "cell_type": "code",
   "execution_count": 158,
   "metadata": {
    "collapsed": false
   },
   "outputs": [
    {
     "name": "stdout",
     "output_type": "stream",
     "text": [
      "\n",
      "[食記] 台北信義 陳根找茶 法式土司真的好好吃\n",
      "\n",
      "\n",
      "[食記] 台北東區 Trattoria di Primo義大利麵\n",
      "\n",
      "\n",
      "[食記] 台北 她他小餐館早午餐 泰式創意好滋味\n",
      "\n",
      "\n",
      "[食記] 台北 惡 燒肉便當 大安和平店\n",
      "\n",
      "\n",
      "[食記] 日本 光麵本格中華麵店 (拉麵) (上野站)\n",
      "\n",
      "\n",
      "[食記] 新竹 WOW瓦屋餐廚再訪食記\n",
      "\n",
      "\n",
      "[食記] 高雄 老上海 創鍋物  高應大、建工路美食\n",
      "\n",
      "\n",
      "[請益] 台大醫院附近適合報告的餐廳\n",
      "\n",
      "\n",
      "[食記] 新竹 鉄喫茶．燒餃子 鐵鍋料理三連發\n",
      "\n",
      "\n",
      "[食記] 台中樂檸漢堡\n",
      "\n",
      "\n",
      "[廣宣] 台南 香港角‧港式飲茶~黯然銷魂煲仔飯!\n",
      "\n",
      "\n",
      "[討論] 想體驗侯布雄的下午茶耶～\n",
      "\n",
      "\n",
      "[公告] Food板 板規 V3.7\n",
      "\n",
      "\n",
      "精華區使用方法  【重要！新手必看！】\n",
      "\n",
      "\n",
      "[公告] 發文請在標題加上地區及提供地址電話。^^\n",
      "\n",
      "\n",
      "[公告] 文章被刪除者請洽精華區的資源回收桶\n",
      "\n",
      "\n",
      "[公告] 板規16發文標題須含餐廳店名之調整\n",
      "\n"
     ]
    }
   ],
   "source": [
    "import requests\n",
    "from bs4 import BeautifulSoup\n",
    "res = requests.get('https://www.ptt.cc/bbs/Food/index.html'verify=False)\n",
    "soup = BeautifulSoup(res.text)\n",
    "for ele in soup.select('.r-ent'):\n",
    "    print ele.select('.title')[0].text\n",
    "    #print ele.select('.title')[0].text.strip().split()[0]"
   ]
  },
  {
   "cell_type": "code",
   "execution_count": 139,
   "metadata": {
    "collapsed": false
   },
   "outputs": [
    {
     "name": "stdout",
     "output_type": "stream",
     "text": [
      "獨／林冠華LINE：要對得起自己 (07/30 14:53)\n",
      "李佳穎跌破頭縫六針　放鳥唐禹哲約會 (07/29 19:48)\n",
      "臉書最新駭客手法：「奪舍」！ (07/29 20:53)\n",
      "專家來了！杜正勝2分鐘破解黑箱課綱 (07/30 08:45)\n",
      "謝承均超嗨抱嬌妻韓瑜　孫協志生氣啦 (07/28 20:10)\n",
      "韓瑜李若玹抱抱哭　小三也愛上正宮？ (07/29 14:39)\n",
      "台商不挺柱？　皇冠總監籲把錢省下來 (07/30 07:58)\n",
      "林冠華輕生　國民黨強烈譴責蔡英文 (07/30 15:37)\n",
      "林冠華輕生　林騰蛟：與反課綱無關 (07/30 13:25)\n",
      "太正啦～男神的姊妹也美到可以出道了 (06/15 19:24)\n",
      "全台失業率最高的縣市　竟在這裡！ (07/30 13:14)\n",
      "精神分裂也要看！《世間情》5大之最 (07/29 15:33)\n",
      "張奇文執意移送記者錄音檔曝光！ (07/28 15:34)\n",
      "《甘味》收視第一！曾莞婷電翻粉絲了 (07/29 19:47)\n",
      "哪來這麼多原則？演藝圈小咖竟挑通告 (07/29 21:11)\n",
      "新北爆都更弊案！前副市長涉賄遭約談 (07/29 16:00)\n",
      "洪秀柱定調「都是蔡英文的錯」 (07/29 16:57)\n",
      "馬坐牢逃不了？特偵組曝光神秘存摺 (06/20 12:39)\n",
      "批小英如毛澤東　學者：根本醜化學生 (07/29 20:51)\n",
      "洪秀柱：沒有我出面，國民黨會很淒慘 (07/29 20:27)\n"
     ]
    }
   ],
   "source": [
    "import requests\n",
    "from bs4 import BeautifulSoup\n",
    "res = requests.get('http://www.setn.com/ViewAll.aspx?PageGroupID=0')\n",
    "soup = BeautifulSoup(res.text)\n",
    "for ele in soup.select('.box li'):\n",
    "    print ele.select('.gt')[0].text, ele.select('.tab_list_time')[0].text"
   ]
  },
  {
   "cell_type": "raw",
   "metadata": {},
   "source": []
  },
  {
   "cell_type": "code",
   "execution_count": 155,
   "metadata": {
    "collapsed": false
   },
   "outputs": [
    {
     "name": "stdout",
     "output_type": "stream",
     "text": [
      "\n",
      "\n",
      "\n",
      "\n",
      "\n",
      "½Ð¿ï¾Ü\n",
      "2009\n",
      "2010\n",
      "2011\n",
      "2012\n",
      "2013\n",
      "\r\n",
      "                                                ¦~\r\n",
      "                                                \n",
      "½Ð¿ï¾Ü\n",
      "1\n",
      "2\n",
      "3\n",
      "4\n",
      "5\n",
      "6\n",
      "7\n",
      "8\n",
      "9\n",
      "10\n",
      "11\n",
      "12\n",
      "\r\n",
      "                                                ¤ë \r\n",
      "                                                \n",
      "½Ð¿ï¾Ü\n",
      "1\n",
      "2\n",
      "3\n",
      "4\n",
      "5\n",
      "6\n",
      "7\n",
      "8\n",
      "9\n",
      "10\n",
      "11\n",
      "12\n",
      "13\n",
      "14\n",
      "15\n",
      "16\n",
      "17\n",
      "18\n",
      "19\n",
      "20\n",
      "21\n",
      "22\n",
      "23\n",
      "24\n",
      "25\n",
      "26\n",
      "27\n",
      "28\n",
      "29\n",
      "30\n",
      "31\n",
      "\r\n",
      "                                                ¤é~\r\n",
      "                                                \n",
      "½Ð¿ï¾Ü\n",
      "2009\n",
      "2010\n",
      "2011\n",
      "2012\n",
      "2013\n",
      "\r\n",
      "                                                ¦~\r\n",
      "                                                \n",
      "½Ð¿ï¾Ü\n",
      "1\n",
      "2\n",
      "3\n",
      "4\n",
      "5\n",
      "6\n",
      "7\n",
      "8\n",
      "9\n",
      "10\n",
      "11\n",
      "12\n",
      "\r\n",
      "                                                ¤ë \r\n",
      "                                               \n",
      "½Ð¿ï¾Ü\n",
      "1\n",
      "2\n",
      "3\n",
      "4\n",
      "5\n",
      "6\n",
      "7\n",
      "8\n",
      "9\n",
      "10\n",
      "11\n",
      "12\n",
      "13\n",
      "14\n",
      "15\n",
      "16\n",
      "17\n",
      "18\n",
      "19\n",
      "20\n",
      "21\n",
      "22\n",
      "23\n",
      "24\n",
      "25\n",
      "26\n",
      "27\n",
      "28\n",
      "29\n",
      "30\n",
      "31\n",
      "\r\n",
      "                                                ¤é\n",
      "\n",
      "°Ï³B\n",
      "²Ä¤@°Ï-¥x¥_°ò¶©\n",
      "²Ä¤G°Ï-®ç¶é¿¤¥«\n",
      "²Ä¤T°Ï-·s¦Ë­]®ß\n",
      "²Ä¥|°Ï-¥x¤¤«n§ë\n",
      "²Ä¤­°Ï-¶³ªL¹Å¸q\n",
      "²Ä¤»°Ï-¥x«n¿¤¥«\n",
      "²Ä¤C°Ï-°ª¶¯«ÌªF\n",
      "²Ä¤K°Ï-©yÄõ¿¤¥«\n",
      "²Ä¤E°Ï-ªá½¬¿¤¥«\n",
      "²Ä¤Q°Ï-¥xªF¿¤¥«\n",
      "²Ä¤Q¤@°Ï-¹ü¤Æ¿¤¥«\n",
      "²Ä¤Q¤G°Ï-¥x¥_¿¤°Ï\n",
      "½Ð¿ï¾Ü¬d¸ß±ø¥ó\n",
      "\n",
      "ÃöÁä¦r\n",
      "¤é´Á\n",
      "\n",
      "\n",
      "\n"
     ]
    }
   ],
   "source": [
    "import requests\n",
    "from bs4 import BeautifulSoup\n",
    "res = requests.get('http://www.water.gov.tw/06news/news_b_list.asp')\n",
    "soup = BeautifulSoup(res.text)\n",
    "for ele in soup.select('td .line-02'):\n",
    "   print ele.select('tr td')[0].text\n",
    "#print ele.select('a')[0].text, ele.select('td')[0].text"
   ]
  },
  {
   "cell_type": "code",
   "execution_count": null,
   "metadata": {
    "collapsed": false
   },
   "outputs": [],
   "source": []
  },
  {
   "cell_type": "code",
   "execution_count": null,
   "metadata": {
    "collapsed": true
   },
   "outputs": [],
   "source": []
  }
 ],
 "metadata": {
  "kernelspec": {
   "display_name": "Python 2",
   "language": "python",
   "name": "python2"
  },
  "language_info": {
   "codemirror_mode": {
    "name": "ipython",
    "version": 2
   },
   "file_extension": ".py",
   "mimetype": "text/x-python",
   "name": "python",
   "nbconvert_exporter": "python",
   "pygments_lexer": "ipython2",
   "version": "2.7.10"
  }
 },
 "nbformat": 4,
 "nbformat_minor": 0
}
