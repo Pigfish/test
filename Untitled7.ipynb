{
 "cells": [
  {
   "cell_type": "code",
   "execution_count": 15,
   "metadata": {
    "collapsed": false
   },
   "outputs": [
    {
     "name": "stdout",
     "output_type": "stream",
     "text": [
      "2015-08-03 11:19 男結夥欺負外勞取樂 行搶被起訴\n",
      "2015-08-03 11:19 接受中國官媒專訪 王曉波：反課綱學生像紅衛兵\n",
      "2015-08-03 11:18 女生太少？台北私立女高校要增招收男學生\n",
      "2015-08-03 11:15 無毛變招牌  老布寶貝光頭擦防曬\n",
      "2015-08-03 11:13 Here Maps 買主確認！ 德國車廠聯手收購\n",
      "2015-08-03 11:12 為什麼要這樣逼我！9個讓男友起肖的問題\n",
      "2015-08-03 11:12 MLB》單局3轟 大都會橫掃國民\n",
      "2015-08-03 11:11 緊盯孩子暑假作業 仁德學童課輔營登場\n",
      "2015-08-03 11:11 蔡正元再轟反課綱 「背宗棄祖、認日作父」\n",
      "2015-08-03 11:07 影片瘋傳  學生建議吳思華「不要走從政這條路」\n",
      "2015-08-03 11:07 愚人節有喜  女歌手捧5月胎\n",
      "2015-08-03 11:06 姊妹通緝多年遭逮 直呼歹路不可行\n",
      "2015-08-03 11:06 自由開講》魔鬼藏身在細節裡\n",
      "2015-08-03 11:06 北管祖師爺聖誕逢父親節 同喜軒勤練扮仙慶祝\n",
      "2015-08-03 11:06 如何「違」調？又「黑箱」？學生發文宣報你知\n",
      "2015-08-03 11:03 張有恒就任華航總經理\n",
      "2015-08-03 11:00 警察直接進課堂找人  原因是…\n",
      "2015-08-03 10:59 MLB》光芒新秀邵薩 將缺陣至少一個月\n",
      "2015-08-03 10:54 超獵奇！SHINee遭砍頭 還被打飛眼球\n",
      "2015-08-03 10:54 扮鬼怪搭高鐵 歡慶中元音樂祭\n",
      "2015-08-03 10:53 林冠華母親籲馬總統：請給抗爭孩子溫暖回應\n",
      "2015-08-03 10:51 承認腐敗？中國官媒稱「官場不良風氣未根除」\n",
      "2015-08-03 10:50 政府強推新課綱 徐世榮：洗腦、霸凌\n",
      "2015-08-03 10:50 蝦米樂團樂音飄入花、東安養院\n"
     ]
    }
   ],
   "source": [
    "import requests\n",
    "from bs4 import BeautifulSoup\n",
    "res = requests.get('http://news.ltn.com.tw/list/BreakingNews')\n",
    "soup = BeautifulSoup(res.text)\n",
    "for news in soup.select('.lipic'):\n",
    "    print news.select('span')[0].text, news.select('.picword')[0].text"
   ]
  },
  {
   "cell_type": "code",
   "execution_count": null,
   "metadata": {
    "collapsed": true
   },
   "outputs": [],
   "source": []
  }
 ],
 "metadata": {
  "kernelspec": {
   "display_name": "Python 2",
   "language": "python",
   "name": "python2"
  },
  "language_info": {
   "codemirror_mode": {
    "name": "ipython",
    "version": 2
   },
   "file_extension": ".py",
   "mimetype": "text/x-python",
   "name": "python",
   "nbconvert_exporter": "python",
   "pygments_lexer": "ipython2",
   "version": "2.7.10"
  }
 },
 "nbformat": 4,
 "nbformat_minor": 0
}
